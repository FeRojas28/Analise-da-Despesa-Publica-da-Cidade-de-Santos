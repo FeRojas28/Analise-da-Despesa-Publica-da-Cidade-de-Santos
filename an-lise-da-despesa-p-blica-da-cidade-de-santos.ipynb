{
 "cells": [
  {
   "cell_type": "markdown",
   "metadata": {
    "papermill": {
     "duration": 0.041333,
     "end_time": "2020-12-04T18:09:54.614410",
     "exception": false,
     "start_time": "2020-12-04T18:09:54.573077",
     "status": "completed"
    },
    "tags": []
   },
   "source": [
    "# CDIA20 | Projeto de Políticas Públicas de Saúde"
   ]
  },
  {
   "cell_type": "markdown",
   "metadata": {
    "papermill": {
     "duration": 0.040141,
     "end_time": "2020-12-04T18:09:54.694486",
     "exception": false,
     "start_time": "2020-12-04T18:09:54.654345",
     "status": "completed"
    },
    "tags": []
   },
   "source": [
    "## Coleta, tratamento, análise e visualização dos dados de despesas anuais da Prefeitura de Santos\n",
    "Este projeto tem a finalidade de analisar, com base em conceitos de estatística e inflação, a despesa pública da cidade de Santos (janeiro de 2014 a outubro de 2020), com a meta de subsidiar políticas públicas de saúde, através de um modelo automatizado a ser desenvolvido"
   ]
  },
  {
   "cell_type": "markdown",
   "metadata": {
    "papermill": {
     "duration": 0.039465,
     "end_time": "2020-12-04T18:09:54.772516",
     "exception": false,
     "start_time": "2020-12-04T18:09:54.733051",
     "status": "completed"
    },
    "tags": []
   },
   "source": [
    "## Autores\n",
    "#### Felipe Fernandes Rojas\n",
    "#### Enzo Bressan Crivellaro\n"
   ]
  },
  {
   "cell_type": "markdown",
   "metadata": {
    "papermill": {
     "duration": 0.039125,
     "end_time": "2020-12-04T18:09:54.852315",
     "exception": false,
     "start_time": "2020-12-04T18:09:54.813190",
     "status": "completed"
    },
    "tags": []
   },
   "source": [
    "Alunos da Pontifícia Universidade Católica de São Paulo - PUC-SP"
   ]
  },
  {
   "cell_type": "markdown",
   "metadata": {
    "papermill": {
     "duration": 0.038474,
     "end_time": "2020-12-04T18:09:54.930466",
     "exception": false,
     "start_time": "2020-12-04T18:09:54.891992",
     "status": "completed"
    },
    "tags": []
   },
   "source": [
    "Curso: Ciência de Dados e Inteligência Artificial - 2º semestre"
   ]
  },
  {
   "cell_type": "markdown",
   "metadata": {
    "papermill": {
     "duration": 0.038781,
     "end_time": "2020-12-04T18:09:55.007858",
     "exception": false,
     "start_time": "2020-12-04T18:09:54.969077",
     "status": "completed"
    },
    "tags": []
   },
   "source": [
    "\n",
    "Disciplina: Projetos de Estatística sobre Bases de Dados Públicas"
   ]
  },
  {
   "cell_type": "markdown",
   "metadata": {
    "papermill": {
     "duration": 0.038242,
     "end_time": "2020-12-04T18:09:55.085231",
     "exception": false,
     "start_time": "2020-12-04T18:09:55.046989",
     "status": "completed"
    },
    "tags": []
   },
   "source": [
    "## Importação de bibliotecas"
   ]
  },
  {
   "cell_type": "code",
   "execution_count": 1,
   "metadata": {
    "_cell_guid": "b1076dfc-b9ad-4769-8c92-a6c4dae69d19",
    "_uuid": "8f2839f25d086af736a60e9eeb907d3b93b6e0e5",
    "execution": {
     "iopub.execute_input": "2020-12-04T18:09:55.168718Z",
     "iopub.status.busy": "2020-12-04T18:09:55.168129Z",
     "iopub.status.idle": "2020-12-04T18:09:55.557871Z",
     "shell.execute_reply": "2020-12-04T18:09:55.557115Z"
    },
    "papermill": {
     "duration": 0.434056,
     "end_time": "2020-12-04T18:09:55.558030",
     "exception": false,
     "start_time": "2020-12-04T18:09:55.123974",
     "status": "completed"
    },
    "tags": []
   },
   "outputs": [],
   "source": [
    "import pandas as pd\n",
    "import numpy as np\n",
    "import matplotlib.pyplot as plt\n",
    "import folium"
   ]
  },
  {
   "cell_type": "markdown",
   "metadata": {
    "papermill": {
     "duration": 0.0585,
     "end_time": "2020-12-04T18:09:55.677188",
     "exception": false,
     "start_time": "2020-12-04T18:09:55.618688",
     "status": "completed"
    },
    "tags": []
   },
   "source": [
    "## Automatização função/função"
   ]
  },
  {
   "cell_type": "code",
   "execution_count": 2,
   "metadata": {
    "execution": {
     "iopub.execute_input": "2020-12-04T18:09:55.809105Z",
     "iopub.status.busy": "2020-12-04T18:09:55.805277Z",
     "iopub.status.idle": "2020-12-04T18:09:55.811985Z",
     "shell.execute_reply": "2020-12-04T18:09:55.812471Z"
    },
    "papermill": {
     "duration": 0.076394,
     "end_time": "2020-12-04T18:09:55.812612",
     "exception": false,
     "start_time": "2020-12-04T18:09:55.736218",
     "status": "completed"
    },
    "tags": []
   },
   "outputs": [],
   "source": [
    "# Realiza a leitura do arquivo\n",
    "def coleta(endereço):\n",
    "    df = pd.read_excel(endereço)\n",
    "    return df\n",
    "\n",
    "# Remove colunas desnecessárias\n",
    "def remover_colunas_indesejadas(df):\n",
    "    df = df.drop(['id_despesa_detalhe', \n",
    "                  'nr_empenho', \n",
    "                  'identificador_despesa', \n",
    "                  'cd_programa', \n",
    "                  'cd_acao'], axis = 1)\n",
    "    return df\n",
    "\n",
    "# Remove linhas desnecessárias\n",
    "def remover_linhas_indesejadas(df):\n",
    "    df = df[df['tp_despesa'] != 'Valor Liquidado']\n",
    "    df = df[df['tp_despesa'] != 'Valor Pago']\n",
    "    return df\n",
    "\n",
    "# Cria a coluna que ajusta os valores de Anulação\n",
    "def criar_coluna(df):\n",
    "    if df['tp_despesa'] == 'Anulação':\n",
    "        return df['vl_despesa'] * -1\n",
    "    else:\n",
    "        return df['vl_despesa']\n",
    "    \n",
    "# Insere uma coluna em um DataFrame com a despesa atualizada de acordo com a inflação\n",
    "def inflacionar(df, inflação, nominal, ano_final):\n",
    "    df['Despesa atualizada'] = df[nominal] * inflação['Número índice'].loc[ano_final] / inflação['Número índice']\n",
    "    return df['Despesa atualizada']\n",
    "\n",
    "# Soma as despesas em cada função do governo\n",
    "def por_função(df):\n",
    "    soma_por_função = df['despesa_real'].groupby(df['ds_funcao_governo']).sum()\n",
    "    return soma_por_função\n",
    "\n",
    "# Soma as despesas em subfunções de uma função específica do governo\n",
    "def por_subfunção_específica(df, função):\n",
    "    df = df.loc[df['ds_funcao_governo'] == função]\n",
    "    soma_por_subfunção = df['despesa_real'].groupby(df['ds_subfuncao_governo']).sum()\n",
    "    return soma_por_subfunção\n",
    "    "
   ]
  },
  {
   "cell_type": "markdown",
   "metadata": {
    "papermill": {
     "duration": 0.039891,
     "end_time": "2020-12-04T18:09:55.895115",
     "exception": false,
     "start_time": "2020-12-04T18:09:55.855224",
     "status": "completed"
    },
    "tags": []
   },
   "source": [
    "## Coleta dos DataFrames"
   ]
  },
  {
   "cell_type": "code",
   "execution_count": 3,
   "metadata": {
    "execution": {
     "iopub.execute_input": "2020-12-04T18:09:55.982855Z",
     "iopub.status.busy": "2020-12-04T18:09:55.982151Z",
     "iopub.status.idle": "2020-12-04T18:09:55.986482Z",
     "shell.execute_reply": "2020-12-04T18:09:55.985810Z"
    },
    "papermill": {
     "duration": 0.0508,
     "end_time": "2020-12-04T18:09:55.986585",
     "exception": false,
     "start_time": "2020-12-04T18:09:55.935785",
     "status": "completed"
    },
    "tags": []
   },
   "outputs": [],
   "source": [
    "endereço_2014 = '../input/despesassantos2014a2020xlsx/despesas-santos-2014.xlsx'\n",
    "endereço_2015 = '../input/despesassantos2014a2020xlsx/despesas-santos-2015.xlsx'\n",
    "endereço_2016 = '../input/despesassantos2014a2020xlsx/despesas-santos-2016.xlsx'\n",
    "endereço_2017 = '../input/despesassantos2014a2020xlsx/despesas-santos-2017.xlsx'\n",
    "endereço_2018 = '../input/despesassantos2014a2020xlsx/despesas-santos-2018.xlsx'\n",
    "endereço_2019 = '../input/despesassantos2014a2020xlsx/despesas-santos-2019.xlsx'\n",
    "endereço_2020 = '../input/despesassantos2014a2020xlsx/despesas-santos-2020.xlsx'"
   ]
  },
  {
   "cell_type": "code",
   "execution_count": 4,
   "metadata": {
    "execution": {
     "iopub.execute_input": "2020-12-04T18:09:56.071273Z",
     "iopub.status.busy": "2020-12-04T18:09:56.070512Z",
     "iopub.status.idle": "2020-12-04T18:10:37.775847Z",
     "shell.execute_reply": "2020-12-04T18:10:37.776401Z"
    },
    "papermill": {
     "duration": 41.75033,
     "end_time": "2020-12-04T18:10:37.776554",
     "exception": false,
     "start_time": "2020-12-04T18:09:56.026224",
     "status": "completed"
    },
    "tags": []
   },
   "outputs": [],
   "source": [
    "df_2014 = coleta(endereço_2014)"
   ]
  },
  {
   "cell_type": "code",
   "execution_count": 5,
   "metadata": {
    "execution": {
     "iopub.execute_input": "2020-12-04T18:10:37.863614Z",
     "iopub.status.busy": "2020-12-04T18:10:37.862976Z",
     "iopub.status.idle": "2020-12-04T18:11:21.564203Z",
     "shell.execute_reply": "2020-12-04T18:11:21.563626Z"
    },
    "papermill": {
     "duration": 43.746782,
     "end_time": "2020-12-04T18:11:21.564315",
     "exception": false,
     "start_time": "2020-12-04T18:10:37.817533",
     "status": "completed"
    },
    "tags": []
   },
   "outputs": [],
   "source": [
    "df_2015 = coleta(endereço_2015)"
   ]
  },
  {
   "cell_type": "code",
   "execution_count": 6,
   "metadata": {
    "execution": {
     "iopub.execute_input": "2020-12-04T18:11:21.650652Z",
     "iopub.status.busy": "2020-12-04T18:11:21.649994Z",
     "iopub.status.idle": "2020-12-04T18:12:05.753009Z",
     "shell.execute_reply": "2020-12-04T18:12:05.752311Z"
    },
    "papermill": {
     "duration": 44.147811,
     "end_time": "2020-12-04T18:12:05.753120",
     "exception": false,
     "start_time": "2020-12-04T18:11:21.605309",
     "status": "completed"
    },
    "tags": []
   },
   "outputs": [],
   "source": [
    "df_2016 = coleta(endereço_2016)"
   ]
  },
  {
   "cell_type": "code",
   "execution_count": 7,
   "metadata": {
    "execution": {
     "iopub.execute_input": "2020-12-04T18:12:05.839582Z",
     "iopub.status.busy": "2020-12-04T18:12:05.838974Z",
     "iopub.status.idle": "2020-12-04T18:12:47.468542Z",
     "shell.execute_reply": "2020-12-04T18:12:47.467862Z"
    },
    "papermill": {
     "duration": 41.674398,
     "end_time": "2020-12-04T18:12:47.468663",
     "exception": false,
     "start_time": "2020-12-04T18:12:05.794265",
     "status": "completed"
    },
    "tags": []
   },
   "outputs": [],
   "source": [
    "df_2017 = coleta(endereço_2017)"
   ]
  },
  {
   "cell_type": "code",
   "execution_count": 8,
   "metadata": {
    "execution": {
     "iopub.execute_input": "2020-12-04T18:12:47.558531Z",
     "iopub.status.busy": "2020-12-04T18:12:47.557886Z",
     "iopub.status.idle": "2020-12-04T18:13:24.412508Z",
     "shell.execute_reply": "2020-12-04T18:13:24.411769Z"
    },
    "papermill": {
     "duration": 36.901665,
     "end_time": "2020-12-04T18:13:24.412635",
     "exception": false,
     "start_time": "2020-12-04T18:12:47.510970",
     "status": "completed"
    },
    "tags": []
   },
   "outputs": [],
   "source": [
    "df_2018 = coleta(endereço_2018)"
   ]
  },
  {
   "cell_type": "code",
   "execution_count": 9,
   "metadata": {
    "execution": {
     "iopub.execute_input": "2020-12-04T18:13:24.500230Z",
     "iopub.status.busy": "2020-12-04T18:13:24.499593Z",
     "iopub.status.idle": "2020-12-04T18:14:12.643997Z",
     "shell.execute_reply": "2020-12-04T18:14:12.643413Z"
    },
    "papermill": {
     "duration": 48.190298,
     "end_time": "2020-12-04T18:14:12.644100",
     "exception": false,
     "start_time": "2020-12-04T18:13:24.453802",
     "status": "completed"
    },
    "tags": []
   },
   "outputs": [],
   "source": [
    "df_2019 = coleta(endereço_2019)"
   ]
  },
  {
   "cell_type": "code",
   "execution_count": 10,
   "metadata": {
    "execution": {
     "iopub.execute_input": "2020-12-04T18:14:12.738701Z",
     "iopub.status.busy": "2020-12-04T18:14:12.737880Z",
     "iopub.status.idle": "2020-12-04T18:14:39.216338Z",
     "shell.execute_reply": "2020-12-04T18:14:39.215883Z"
    },
    "papermill": {
     "duration": 26.528631,
     "end_time": "2020-12-04T18:14:39.216426",
     "exception": false,
     "start_time": "2020-12-04T18:14:12.687795",
     "status": "completed"
    },
    "tags": []
   },
   "outputs": [],
   "source": [
    "df_2020 = coleta(endereço_2020)"
   ]
  },
  {
   "cell_type": "markdown",
   "metadata": {
    "papermill": {
     "duration": 0.028738,
     "end_time": "2020-12-04T18:14:39.274206",
     "exception": false,
     "start_time": "2020-12-04T18:14:39.245468",
     "status": "completed"
    },
    "tags": []
   },
   "source": [
    "## Tratamento dos DataFrames"
   ]
  },
  {
   "cell_type": "code",
   "execution_count": 11,
   "metadata": {
    "execution": {
     "iopub.execute_input": "2020-12-04T18:14:39.346734Z",
     "iopub.status.busy": "2020-12-04T18:14:39.343292Z",
     "iopub.status.idle": "2020-12-04T18:14:40.341990Z",
     "shell.execute_reply": "2020-12-04T18:14:40.342492Z"
    },
    "papermill": {
     "duration": 1.039199,
     "end_time": "2020-12-04T18:14:40.342652",
     "exception": false,
     "start_time": "2020-12-04T18:14:39.303453",
     "status": "completed"
    },
    "tags": []
   },
   "outputs": [],
   "source": [
    "# Aplicação dos métodos de tratamento\n",
    "df_2014 = remover_colunas_indesejadas(df_2014)\n",
    "df_2014 = remover_linhas_indesejadas(df_2014)\n",
    "df_2014['despesa_real'] = df_2014.apply(criar_coluna, axis = 1)"
   ]
  },
  {
   "cell_type": "code",
   "execution_count": 12,
   "metadata": {
    "execution": {
     "iopub.execute_input": "2020-12-04T18:14:40.418851Z",
     "iopub.status.busy": "2020-12-04T18:14:40.418011Z",
     "iopub.status.idle": "2020-12-04T18:14:41.156717Z",
     "shell.execute_reply": "2020-12-04T18:14:41.157406Z"
    },
    "papermill": {
     "duration": 0.774211,
     "end_time": "2020-12-04T18:14:41.157581",
     "exception": false,
     "start_time": "2020-12-04T18:14:40.383370",
     "status": "completed"
    },
    "tags": []
   },
   "outputs": [],
   "source": [
    "df_2015 = remover_colunas_indesejadas(df_2015)\n",
    "df_2015 = remover_linhas_indesejadas(df_2015)\n",
    "df_2015['despesa_real'] = df_2015.apply(criar_coluna, axis = 1)"
   ]
  },
  {
   "cell_type": "code",
   "execution_count": 13,
   "metadata": {
    "execution": {
     "iopub.execute_input": "2020-12-04T18:14:41.291475Z",
     "iopub.status.busy": "2020-12-04T18:14:41.290339Z",
     "iopub.status.idle": "2020-12-04T18:14:42.098648Z",
     "shell.execute_reply": "2020-12-04T18:14:42.098093Z"
    },
    "papermill": {
     "duration": 0.877535,
     "end_time": "2020-12-04T18:14:42.098764",
     "exception": false,
     "start_time": "2020-12-04T18:14:41.221229",
     "status": "completed"
    },
    "tags": []
   },
   "outputs": [],
   "source": [
    "df_2016 = remover_colunas_indesejadas(df_2016)\n",
    "df_2016 = remover_linhas_indesejadas(df_2016)\n",
    "df_2016['despesa_real'] = df_2016.apply(criar_coluna, axis = 1)"
   ]
  },
  {
   "cell_type": "code",
   "execution_count": 14,
   "metadata": {
    "execution": {
     "iopub.execute_input": "2020-12-04T18:14:42.187734Z",
     "iopub.status.busy": "2020-12-04T18:14:42.187134Z",
     "iopub.status.idle": "2020-12-04T18:14:42.799356Z",
     "shell.execute_reply": "2020-12-04T18:14:42.798443Z"
    },
    "papermill": {
     "duration": 0.659149,
     "end_time": "2020-12-04T18:14:42.799519",
     "exception": false,
     "start_time": "2020-12-04T18:14:42.140370",
     "status": "completed"
    },
    "tags": []
   },
   "outputs": [],
   "source": [
    "df_2017 = remover_colunas_indesejadas(df_2017)\n",
    "df_2017 = remover_linhas_indesejadas(df_2017)\n",
    "df_2017['despesa_real'] = df_2017.apply(criar_coluna, axis = 1)"
   ]
  },
  {
   "cell_type": "code",
   "execution_count": 15,
   "metadata": {
    "execution": {
     "iopub.execute_input": "2020-12-04T18:14:42.934238Z",
     "iopub.status.busy": "2020-12-04T18:14:42.933547Z",
     "iopub.status.idle": "2020-12-04T18:14:43.616170Z",
     "shell.execute_reply": "2020-12-04T18:14:43.615447Z"
    },
    "papermill": {
     "duration": 0.751863,
     "end_time": "2020-12-04T18:14:43.616287",
     "exception": false,
     "start_time": "2020-12-04T18:14:42.864424",
     "status": "completed"
    },
    "tags": []
   },
   "outputs": [],
   "source": [
    "df_2018 = remover_colunas_indesejadas(df_2018)\n",
    "df_2018 = remover_linhas_indesejadas(df_2018)\n",
    "df_2018['despesa_real'] = df_2018.apply(criar_coluna, axis = 1)"
   ]
  },
  {
   "cell_type": "code",
   "execution_count": 16,
   "metadata": {
    "execution": {
     "iopub.execute_input": "2020-12-04T18:14:43.717426Z",
     "iopub.status.busy": "2020-12-04T18:14:43.716648Z",
     "iopub.status.idle": "2020-12-04T18:14:44.394822Z",
     "shell.execute_reply": "2020-12-04T18:14:44.394183Z"
    },
    "papermill": {
     "duration": 0.731077,
     "end_time": "2020-12-04T18:14:44.394954",
     "exception": false,
     "start_time": "2020-12-04T18:14:43.663877",
     "status": "completed"
    },
    "tags": []
   },
   "outputs": [],
   "source": [
    "df_2019 = remover_colunas_indesejadas(df_2019)\n",
    "df_2019 = remover_linhas_indesejadas(df_2019)\n",
    "df_2019['despesa_real'] = df_2019.apply(criar_coluna, axis = 1)"
   ]
  },
  {
   "cell_type": "code",
   "execution_count": 17,
   "metadata": {
    "execution": {
     "iopub.execute_input": "2020-12-04T18:14:44.489584Z",
     "iopub.status.busy": "2020-12-04T18:14:44.488885Z",
     "iopub.status.idle": "2020-12-04T18:14:45.237564Z",
     "shell.execute_reply": "2020-12-04T18:14:45.236975Z"
    },
    "papermill": {
     "duration": 0.799402,
     "end_time": "2020-12-04T18:14:45.237679",
     "exception": false,
     "start_time": "2020-12-04T18:14:44.438277",
     "status": "completed"
    },
    "tags": []
   },
   "outputs": [],
   "source": [
    "df_2020 = remover_colunas_indesejadas(df_2020)\n",
    "df_2020 = remover_linhas_indesejadas(df_2020)\n",
    "df_2020['despesa_real'] = df_2020.apply(criar_coluna, axis = 1)"
   ]
  },
  {
   "cell_type": "markdown",
   "metadata": {
    "papermill": {
     "duration": 0.042318,
     "end_time": "2020-12-04T18:14:45.323574",
     "exception": false,
     "start_time": "2020-12-04T18:14:45.281256",
     "status": "completed"
    },
    "tags": []
   },
   "source": [
    "## Análise dos dados"
   ]
  },
  {
   "cell_type": "markdown",
   "metadata": {
    "papermill": {
     "duration": 0.046044,
     "end_time": "2020-12-04T18:14:45.412539",
     "exception": false,
     "start_time": "2020-12-04T18:14:45.366495",
     "status": "completed"
    },
    "tags": []
   },
   "source": [
    "### Despesas atualizadas anualmente"
   ]
  },
  {
   "cell_type": "code",
   "execution_count": 18,
   "metadata": {
    "execution": {
     "iopub.execute_input": "2020-12-04T18:14:45.506584Z",
     "iopub.status.busy": "2020-12-04T18:14:45.505717Z",
     "iopub.status.idle": "2020-12-04T18:14:45.511247Z",
     "shell.execute_reply": "2020-12-04T18:14:45.510651Z"
    },
    "papermill": {
     "duration": 0.055905,
     "end_time": "2020-12-04T18:14:45.511370",
     "exception": false,
     "start_time": "2020-12-04T18:14:45.455465",
     "status": "completed"
    },
    "tags": []
   },
   "outputs": [
    {
     "data": {
      "text/plain": [
       "[2014, 2015, 2016, 2017, 2018, 2019, 'out/2020']"
      ]
     },
     "execution_count": 18,
     "metadata": {},
     "output_type": "execute_result"
    }
   ],
   "source": [
    "# Lista dos anos analisados (servirá como índice de dataFrames)\n",
    "lista_anos = []\n",
    "ano_inicial = 2014\n",
    "ano_final = 2019\n",
    "for i in range(ano_inicial, ano_final + 1):\n",
    "    lista_anos.append(i)\n",
    "    \n",
    "# 2020 possui dados até outubro\n",
    "lista_anos.append('out/2020')    \n",
    "    \n",
    "lista_anos"
   ]
  },
  {
   "cell_type": "code",
   "execution_count": 19,
   "metadata": {
    "execution": {
     "iopub.execute_input": "2020-12-04T18:14:45.605039Z",
     "iopub.status.busy": "2020-12-04T18:14:45.604282Z",
     "iopub.status.idle": "2020-12-04T18:14:45.611234Z",
     "shell.execute_reply": "2020-12-04T18:14:45.610544Z"
    },
    "papermill": {
     "duration": 0.056754,
     "end_time": "2020-12-04T18:14:45.611348",
     "exception": false,
     "start_time": "2020-12-04T18:14:45.554594",
     "status": "completed"
    },
    "tags": []
   },
   "outputs": [],
   "source": [
    "# Lista das despesas totais de cada ano\n",
    "dados = np.array([\n",
    "    df_2014['despesa_real'].sum(),\n",
    "    df_2015['despesa_real'].sum(),\n",
    "    df_2016['despesa_real'].sum(),\n",
    "    df_2017['despesa_real'].sum(),\n",
    "    df_2018['despesa_real'].sum(),\n",
    "    df_2019['despesa_real'].sum(),\n",
    "    df_2020['despesa_real'].sum(),\n",
    "])"
   ]
  },
  {
   "cell_type": "code",
   "execution_count": 20,
   "metadata": {
    "execution": {
     "iopub.execute_input": "2020-12-04T18:14:45.714380Z",
     "iopub.status.busy": "2020-12-04T18:14:45.713667Z",
     "iopub.status.idle": "2020-12-04T18:14:45.723720Z",
     "shell.execute_reply": "2020-12-04T18:14:45.724271Z"
    },
    "papermill": {
     "duration": 0.070019,
     "end_time": "2020-12-04T18:14:45.724411",
     "exception": false,
     "start_time": "2020-12-04T18:14:45.654392",
     "status": "completed"
    },
    "tags": []
   },
   "outputs": [
    {
     "data": {
      "text/html": [
       "<div>\n",
       "<style scoped>\n",
       "    .dataframe tbody tr th:only-of-type {\n",
       "        vertical-align: middle;\n",
       "    }\n",
       "\n",
       "    .dataframe tbody tr th {\n",
       "        vertical-align: top;\n",
       "    }\n",
       "\n",
       "    .dataframe thead th {\n",
       "        text-align: right;\n",
       "    }\n",
       "</style>\n",
       "<table border=\"1\" class=\"dataframe\">\n",
       "  <thead>\n",
       "    <tr style=\"text-align: right;\">\n",
       "      <th></th>\n",
       "      <th>IGP-DI</th>\n",
       "      <th>Número índice</th>\n",
       "    </tr>\n",
       "  </thead>\n",
       "  <tbody>\n",
       "    <tr>\n",
       "      <th>2014</th>\n",
       "      <td>3.78</td>\n",
       "      <td>100.00</td>\n",
       "    </tr>\n",
       "    <tr>\n",
       "      <th>2015</th>\n",
       "      <td>10.68</td>\n",
       "      <td>110.68</td>\n",
       "    </tr>\n",
       "    <tr>\n",
       "      <th>2016</th>\n",
       "      <td>7.15</td>\n",
       "      <td>118.60</td>\n",
       "    </tr>\n",
       "    <tr>\n",
       "      <th>2017</th>\n",
       "      <td>-0.42</td>\n",
       "      <td>118.09</td>\n",
       "    </tr>\n",
       "    <tr>\n",
       "      <th>2018</th>\n",
       "      <td>7.10</td>\n",
       "      <td>126.48</td>\n",
       "    </tr>\n",
       "    <tr>\n",
       "      <th>2019</th>\n",
       "      <td>7.68</td>\n",
       "      <td>136.19</td>\n",
       "    </tr>\n",
       "    <tr>\n",
       "      <th>out/2020</th>\n",
       "      <td>19.00</td>\n",
       "      <td>162.07</td>\n",
       "    </tr>\n",
       "  </tbody>\n",
       "</table>\n",
       "</div>"
      ],
      "text/plain": [
       "          IGP-DI  Número índice\n",
       "2014        3.78         100.00\n",
       "2015       10.68         110.68\n",
       "2016        7.15         118.60\n",
       "2017       -0.42         118.09\n",
       "2018        7.10         126.48\n",
       "2019        7.68         136.19\n",
       "out/2020   19.00         162.07"
      ]
     },
     "execution_count": 20,
     "metadata": {},
     "output_type": "execute_result"
    }
   ],
   "source": [
    "# Valores de inflação coletados manualmente\n",
    "igpdi = np.array([\n",
    "    3.78, 10.68, 7.15, -0.42, 7.10, 7.68, 19\n",
    "]) \n",
    "num_indice = np.array([\n",
    "     100.00, 110.68, 118.60, 118.09, 126.48, 136.19, 162.07 \n",
    "])\n",
    "\n",
    "# Criação do DataFrame, adicionando os anos como índice\n",
    "inflação = pd.DataFrame(igpdi, index = (lista_anos), columns = ['IGP-DI'])\n",
    "inflação['Número índice'] = num_indice\n",
    "\n",
    "inflação"
   ]
  },
  {
   "cell_type": "code",
   "execution_count": 21,
   "metadata": {
    "execution": {
     "iopub.execute_input": "2020-12-04T18:14:45.818194Z",
     "iopub.status.busy": "2020-12-04T18:14:45.817190Z",
     "iopub.status.idle": "2020-12-04T18:14:45.850673Z",
     "shell.execute_reply": "2020-12-04T18:14:45.849902Z"
    },
    "papermill": {
     "duration": 0.08302,
     "end_time": "2020-12-04T18:14:45.850817",
     "exception": false,
     "start_time": "2020-12-04T18:14:45.767797",
     "status": "completed"
    },
    "tags": []
   },
   "outputs": [
    {
     "data": {
      "text/html": [
       "<div>\n",
       "<style scoped>\n",
       "    .dataframe tbody tr th:only-of-type {\n",
       "        vertical-align: middle;\n",
       "    }\n",
       "\n",
       "    .dataframe tbody tr th {\n",
       "        vertical-align: top;\n",
       "    }\n",
       "\n",
       "    .dataframe thead th {\n",
       "        text-align: right;\n",
       "    }\n",
       "</style>\n",
       "<table border=\"1\" class=\"dataframe\">\n",
       "  <thead>\n",
       "    <tr style=\"text-align: right;\">\n",
       "      <th></th>\n",
       "      <th>Despesa nominal</th>\n",
       "      <th>Despesa atualizada</th>\n",
       "    </tr>\n",
       "  </thead>\n",
       "  <tbody>\n",
       "    <tr>\n",
       "      <th>2014</th>\n",
       "      <td>2.145630e+09</td>\n",
       "      <td>3.477423e+09</td>\n",
       "    </tr>\n",
       "    <tr>\n",
       "      <th>2015</th>\n",
       "      <td>2.438438e+09</td>\n",
       "      <td>3.570632e+09</td>\n",
       "    </tr>\n",
       "    <tr>\n",
       "      <th>2016</th>\n",
       "      <td>2.455214e+09</td>\n",
       "      <td>3.355115e+09</td>\n",
       "    </tr>\n",
       "    <tr>\n",
       "      <th>2017</th>\n",
       "      <td>2.489831e+09</td>\n",
       "      <td>3.417113e+09</td>\n",
       "    </tr>\n",
       "    <tr>\n",
       "      <th>2018</th>\n",
       "      <td>2.627802e+09</td>\n",
       "      <td>3.367235e+09</td>\n",
       "    </tr>\n",
       "    <tr>\n",
       "      <th>2019</th>\n",
       "      <td>3.094259e+09</td>\n",
       "      <td>3.682256e+09</td>\n",
       "    </tr>\n",
       "    <tr>\n",
       "      <th>out/2020</th>\n",
       "      <td>2.992706e+09</td>\n",
       "      <td>2.992706e+09</td>\n",
       "    </tr>\n",
       "  </tbody>\n",
       "</table>\n",
       "</div>"
      ],
      "text/plain": [
       "          Despesa nominal  Despesa atualizada\n",
       "2014         2.145630e+09        3.477423e+09\n",
       "2015         2.438438e+09        3.570632e+09\n",
       "2016         2.455214e+09        3.355115e+09\n",
       "2017         2.489831e+09        3.417113e+09\n",
       "2018         2.627802e+09        3.367235e+09\n",
       "2019         3.094259e+09        3.682256e+09\n",
       "out/2020     2.992706e+09        2.992706e+09"
      ]
     },
     "execution_count": 21,
     "metadata": {},
     "output_type": "execute_result"
    }
   ],
   "source": [
    "# DataFrame das despesas nominais e atualizadas [utilizando a função inflacionar()] segundo inflação IGP-DI\n",
    "despesas_totais = pd.DataFrame(dados, index = (lista_anos), columns = ['Despesa nominal'])\n",
    "inflacionar(despesas_totais, inflação, 'Despesa nominal', 'out/2020')\n",
    "\n",
    "# FALTA REMOVER NOTAÇÃO CIENTÍFICA\n",
    "despesas_totais"
   ]
  },
  {
   "cell_type": "code",
   "execution_count": 22,
   "metadata": {
    "execution": {
     "iopub.execute_input": "2020-12-04T18:14:45.990678Z",
     "iopub.status.busy": "2020-12-04T18:14:45.989883Z",
     "iopub.status.idle": "2020-12-04T18:14:45.994307Z",
     "shell.execute_reply": "2020-12-04T18:14:45.994830Z"
    },
    "papermill": {
     "duration": 0.076861,
     "end_time": "2020-12-04T18:14:45.994997",
     "exception": false,
     "start_time": "2020-12-04T18:14:45.918136",
     "status": "completed"
    },
    "tags": []
   },
   "outputs": [],
   "source": [
    "# Estilo do gráfico\n",
    "plt.style.use('seaborn-ticks')\n",
    "# Tamanho do gráfico\n",
    "plt.rcParams['figure.figsize'] = (11,7)"
   ]
  },
  {
   "cell_type": "code",
   "execution_count": 23,
   "metadata": {
    "execution": {
     "iopub.execute_input": "2020-12-04T18:14:46.093733Z",
     "iopub.status.busy": "2020-12-04T18:14:46.093305Z",
     "iopub.status.idle": "2020-12-04T18:14:46.381068Z",
     "shell.execute_reply": "2020-12-04T18:14:46.380451Z"
    },
    "papermill": {
     "duration": 0.338858,
     "end_time": "2020-12-04T18:14:46.381200",
     "exception": false,
     "start_time": "2020-12-04T18:14:46.042342",
     "status": "completed"
    },
    "tags": []
   },
   "outputs": [
    {
     "data": {
      "text/plain": [
       "<matplotlib.axes._subplots.AxesSubplot at 0x7f2876901b90>"
      ]
     },
     "execution_count": 23,
     "metadata": {},
     "output_type": "execute_result"
    },
    {
     "data": {
      "image/png": "[encoded data removed]",
      "text/plain": [
       "<Figure size 792x504 with 1 Axes>"
      ]
     },
     "metadata": {},
     "output_type": "display_data"
    }
   ],
   "source": [
    "despesas_totais.plot(kind = 'bar',\n",
    "                     title = 'Qual foi o gasto anual da Prefeitura de Santos, tendo em vista a inflação?')"
   ]
  },
  {
   "cell_type": "markdown",
   "metadata": {
    "papermill": {
     "duration": 0.04567,
     "end_time": "2020-12-04T18:14:46.473365",
     "exception": false,
     "start_time": "2020-12-04T18:14:46.427695",
     "status": "completed"
    },
    "tags": []
   },
   "source": [
    "### Despesas atualizadas por função do governo anualmente"
   ]
  },
  {
   "cell_type": "code",
   "execution_count": 24,
   "metadata": {
    "execution": {
     "iopub.execute_input": "2020-12-04T18:14:46.573607Z",
     "iopub.status.busy": "2020-12-04T18:14:46.572982Z",
     "iopub.status.idle": "2020-12-04T18:14:46.640557Z",
     "shell.execute_reply": "2020-12-04T18:14:46.639885Z"
    },
    "papermill": {
     "duration": 0.121123,
     "end_time": "2020-12-04T18:14:46.640663",
     "exception": false,
     "start_time": "2020-12-04T18:14:46.519540",
     "status": "completed"
    },
    "tags": []
   },
   "outputs": [],
   "source": [
    "# Lista com os gastos por função de cada ano\n",
    "dados_1 = [por_função(df_2014), \n",
    "           por_função(df_2015), \n",
    "           por_função(df_2016), \n",
    "           por_função(df_2017), \n",
    "           por_função(df_2018), \n",
    "           por_função(df_2019), \n",
    "           por_função(df_2020)]"
   ]
  },
  {
   "cell_type": "code",
   "execution_count": 25,
   "metadata": {
    "execution": {
     "iopub.execute_input": "2020-12-04T18:14:46.739753Z",
     "iopub.status.busy": "2020-12-04T18:14:46.738881Z",
     "iopub.status.idle": "2020-12-04T18:14:46.804266Z",
     "shell.execute_reply": "2020-12-04T18:14:46.805211Z"
    },
    "papermill": {
     "duration": 0.119166,
     "end_time": "2020-12-04T18:14:46.805441",
     "exception": false,
     "start_time": "2020-12-04T18:14:46.686275",
     "status": "completed"
    },
    "tags": []
   },
   "outputs": [
    {
     "data": {
      "text/html": [
       "<div>\n",
       "<style scoped>\n",
       "    .dataframe tbody tr th:only-of-type {\n",
       "        vertical-align: middle;\n",
       "    }\n",
       "\n",
       "    .dataframe tbody tr th {\n",
       "        vertical-align: top;\n",
       "    }\n",
       "\n",
       "    .dataframe thead th {\n",
       "        text-align: right;\n",
       "    }\n",
       "</style>\n",
       "<table border=\"1\" class=\"dataframe\">\n",
       "  <thead>\n",
       "    <tr style=\"text-align: right;\">\n",
       "      <th>ds_funcao_governo</th>\n",
       "      <th>ADMINISTRAÇÃO</th>\n",
       "      <th>ASSISTÊNCIA SOCIAL</th>\n",
       "      <th>CIÊNCIA E TECNOLOGIA</th>\n",
       "      <th>COMÉRCIO E SERVIÇOS</th>\n",
       "      <th>CULTURA</th>\n",
       "      <th>DESPORTO E LAZER</th>\n",
       "      <th>DIREITOS DA CIDADANIA</th>\n",
       "      <th>EDUCAÇÃO</th>\n",
       "      <th>ENCARGOS ESPECIAIS</th>\n",
       "      <th>GESTÃO AMBIENTAL</th>\n",
       "      <th>HABITAÇÃO</th>\n",
       "      <th>LEGISLATIVA</th>\n",
       "      <th>PREVIDÊNCIA SOCIAL</th>\n",
       "      <th>SANEAMENTO</th>\n",
       "      <th>SAÚDE</th>\n",
       "      <th>SEGURANÇA PÚBLICA</th>\n",
       "      <th>URBANISMO</th>\n",
       "    </tr>\n",
       "  </thead>\n",
       "  <tbody>\n",
       "    <tr>\n",
       "      <th>count</th>\n",
       "      <td>7.000000e+00</td>\n",
       "      <td>7.000000e+00</td>\n",
       "      <td>7.000000e+00</td>\n",
       "      <td>7.000000e+00</td>\n",
       "      <td>7.000000e+00</td>\n",
       "      <td>7.000000e+00</td>\n",
       "      <td>7.000000e+00</td>\n",
       "      <td>7.000000e+00</td>\n",
       "      <td>7.000000e+00</td>\n",
       "      <td>7.000000e+00</td>\n",
       "      <td>7.000000e+00</td>\n",
       "      <td>7.000000e+00</td>\n",
       "      <td>7.000000e+00</td>\n",
       "      <td>7.000000e+00</td>\n",
       "      <td>7.000000e+00</td>\n",
       "      <td>7.000000e+00</td>\n",
       "      <td>7.000000e+00</td>\n",
       "    </tr>\n",
       "    <tr>\n",
       "      <th>mean</th>\n",
       "      <td>4.567222e+08</td>\n",
       "      <td>6.104271e+07</td>\n",
       "      <td>1.469142e+06</td>\n",
       "      <td>6.876986e+06</td>\n",
       "      <td>2.873789e+07</td>\n",
       "      <td>1.870701e+07</td>\n",
       "      <td>5.370020e+06</td>\n",
       "      <td>5.664320e+08</td>\n",
       "      <td>6.766137e+07</td>\n",
       "      <td>1.871299e+07</td>\n",
       "      <td>3.071370e+07</td>\n",
       "      <td>5.544930e+07</td>\n",
       "      <td>3.379450e+08</td>\n",
       "      <td>9.865362e+06</td>\n",
       "      <td>5.692004e+08</td>\n",
       "      <td>2.223303e+07</td>\n",
       "      <td>3.491296e+08</td>\n",
       "    </tr>\n",
       "    <tr>\n",
       "      <th>std</th>\n",
       "      <td>1.316832e+08</td>\n",
       "      <td>9.491026e+06</td>\n",
       "      <td>7.239987e+05</td>\n",
       "      <td>4.932920e+06</td>\n",
       "      <td>1.277372e+07</td>\n",
       "      <td>9.883379e+06</td>\n",
       "      <td>3.597923e+06</td>\n",
       "      <td>5.802588e+07</td>\n",
       "      <td>1.852254e+07</td>\n",
       "      <td>7.495439e+06</td>\n",
       "      <td>1.521771e+07</td>\n",
       "      <td>6.403403e+06</td>\n",
       "      <td>7.208097e+07</td>\n",
       "      <td>1.658957e+07</td>\n",
       "      <td>9.919439e+07</td>\n",
       "      <td>1.705180e+07</td>\n",
       "      <td>7.030944e+07</td>\n",
       "    </tr>\n",
       "    <tr>\n",
       "      <th>min</th>\n",
       "      <td>3.108162e+08</td>\n",
       "      <td>5.044162e+07</td>\n",
       "      <td>1.034712e+06</td>\n",
       "      <td>1.177068e+06</td>\n",
       "      <td>1.059243e+07</td>\n",
       "      <td>7.374180e+06</td>\n",
       "      <td>1.308246e+06</td>\n",
       "      <td>4.800628e+08</td>\n",
       "      <td>4.945506e+07</td>\n",
       "      <td>7.985949e+06</td>\n",
       "      <td>1.641280e+07</td>\n",
       "      <td>4.336405e+07</td>\n",
       "      <td>2.418251e+08</td>\n",
       "      <td>2.410000e+04</td>\n",
       "      <td>4.345295e+08</td>\n",
       "      <td>3.753668e+06</td>\n",
       "      <td>2.293450e+08</td>\n",
       "    </tr>\n",
       "    <tr>\n",
       "      <th>25%</th>\n",
       "      <td>3.537188e+08</td>\n",
       "      <td>5.348455e+07</td>\n",
       "      <td>1.095661e+06</td>\n",
       "      <td>2.559449e+06</td>\n",
       "      <td>1.956531e+07</td>\n",
       "      <td>8.832410e+06</td>\n",
       "      <td>2.050980e+06</td>\n",
       "      <td>5.359697e+08</td>\n",
       "      <td>5.410722e+07</td>\n",
       "      <td>1.236636e+07</td>\n",
       "      <td>1.960007e+07</td>\n",
       "      <td>5.316350e+07</td>\n",
       "      <td>2.879079e+08</td>\n",
       "      <td>1.679000e+05</td>\n",
       "      <td>5.234236e+08</td>\n",
       "      <td>4.318581e+06</td>\n",
       "      <td>3.213182e+08</td>\n",
       "    </tr>\n",
       "    <tr>\n",
       "      <th>50%</th>\n",
       "      <td>3.946248e+08</td>\n",
       "      <td>5.794439e+07</td>\n",
       "      <td>1.156471e+06</td>\n",
       "      <td>7.773176e+06</td>\n",
       "      <td>2.792260e+07</td>\n",
       "      <td>2.275022e+07</td>\n",
       "      <td>5.259677e+06</td>\n",
       "      <td>5.525169e+08</td>\n",
       "      <td>6.058402e+07</td>\n",
       "      <td>2.361730e+07</td>\n",
       "      <td>2.244000e+07</td>\n",
       "      <td>5.743905e+07</td>\n",
       "      <td>3.313503e+08</td>\n",
       "      <td>1.488111e+06</td>\n",
       "      <td>5.357562e+08</td>\n",
       "      <td>3.284097e+07</td>\n",
       "      <td>3.358451e+08</td>\n",
       "    </tr>\n",
       "    <tr>\n",
       "      <th>75%</th>\n",
       "      <td>5.865546e+08</td>\n",
       "      <td>6.914800e+07</td>\n",
       "      <td>1.414120e+06</td>\n",
       "      <td>9.942305e+06</td>\n",
       "      <td>3.989352e+07</td>\n",
       "      <td>2.730245e+07</td>\n",
       "      <td>8.882524e+06</td>\n",
       "      <td>6.025353e+08</td>\n",
       "      <td>7.744304e+07</td>\n",
       "      <td>2.425469e+07</td>\n",
       "      <td>4.003138e+07</td>\n",
       "      <td>5.927694e+07</td>\n",
       "      <td>3.883928e+08</td>\n",
       "      <td>1.180844e+07</td>\n",
       "      <td>6.228421e+08</td>\n",
       "      <td>3.598660e+07</td>\n",
       "      <td>3.969306e+08</td>\n",
       "    </tr>\n",
       "    <tr>\n",
       "      <th>max</th>\n",
       "      <td>6.110674e+08</td>\n",
       "      <td>7.364789e+07</td>\n",
       "      <td>3.073250e+06</td>\n",
       "      <td>1.418515e+07</td>\n",
       "      <td>4.373254e+07</td>\n",
       "      <td>2.855492e+07</td>\n",
       "      <td>9.155210e+06</td>\n",
       "      <td>6.554339e+08</td>\n",
       "      <td>1.004900e+08</td>\n",
       "      <td>2.614560e+07</td>\n",
       "      <td>5.688020e+07</td>\n",
       "      <td>6.246114e+07</td>\n",
       "      <td>4.398384e+08</td>\n",
       "      <td>4.359265e+07</td>\n",
       "      <td>7.215856e+08</td>\n",
       "      <td>3.842620e+07</td>\n",
       "      <td>4.422191e+08</td>\n",
       "    </tr>\n",
       "  </tbody>\n",
       "</table>\n",
       "</div>"
      ],
      "text/plain": [
       "ds_funcao_governo  ADMINISTRAÇÃO  ASSISTÊNCIA SOCIAL  CIÊNCIA E TECNOLOGIA  \\\n",
       "count               7.000000e+00        7.000000e+00          7.000000e+00   \n",
       "mean                4.567222e+08        6.104271e+07          1.469142e+06   \n",
       "std                 1.316832e+08        9.491026e+06          7.239987e+05   \n",
       "min                 3.108162e+08        5.044162e+07          1.034712e+06   \n",
       "25%                 3.537188e+08        5.348455e+07          1.095661e+06   \n",
       "50%                 3.946248e+08        5.794439e+07          1.156471e+06   \n",
       "75%                 5.865546e+08        6.914800e+07          1.414120e+06   \n",
       "max                 6.110674e+08        7.364789e+07          3.073250e+06   \n",
       "\n",
       "ds_funcao_governo  COMÉRCIO E SERVIÇOS       CULTURA  DESPORTO E LAZER  \\\n",
       "count                     7.000000e+00  7.000000e+00      7.000000e+00   \n",
       "mean                      6.876986e+06  2.873789e+07      1.870701e+07   \n",
       "std                       4.932920e+06  1.277372e+07      9.883379e+06   \n",
       "min                       1.177068e+06  1.059243e+07      7.374180e+06   \n",
       "25%                       2.559449e+06  1.956531e+07      8.832410e+06   \n",
       "50%                       7.773176e+06  2.792260e+07      2.275022e+07   \n",
       "75%                       9.942305e+06  3.989352e+07      2.730245e+07   \n",
       "max                       1.418515e+07  4.373254e+07      2.855492e+07   \n",
       "\n",
       "ds_funcao_governo  DIREITOS DA CIDADANIA      EDUCAÇÃO  ENCARGOS ESPECIAIS  \\\n",
       "count                       7.000000e+00  7.000000e+00        7.000000e+00   \n",
       "mean                        5.370020e+06  5.664320e+08        6.766137e+07   \n",
       "std                         3.597923e+06  5.802588e+07        1.852254e+07   \n",
       "min                         1.308246e+06  4.800628e+08        4.945506e+07   \n",
       "25%                         2.050980e+06  5.359697e+08        5.410722e+07   \n",
       "50%                         5.259677e+06  5.525169e+08        6.058402e+07   \n",
       "75%                         8.882524e+06  6.025353e+08        7.744304e+07   \n",
       "max                         9.155210e+06  6.554339e+08        1.004900e+08   \n",
       "\n",
       "ds_funcao_governo  GESTÃO AMBIENTAL     HABITAÇÃO   LEGISLATIVA  \\\n",
       "count                  7.000000e+00  7.000000e+00  7.000000e+00   \n",
       "mean                   1.871299e+07  3.071370e+07  5.544930e+07   \n",
       "std                    7.495439e+06  1.521771e+07  6.403403e+06   \n",
       "min                    7.985949e+06  1.641280e+07  4.336405e+07   \n",
       "25%                    1.236636e+07  1.960007e+07  5.316350e+07   \n",
       "50%                    2.361730e+07  2.244000e+07  5.743905e+07   \n",
       "75%                    2.425469e+07  4.003138e+07  5.927694e+07   \n",
       "max                    2.614560e+07  5.688020e+07  6.246114e+07   \n",
       "\n",
       "ds_funcao_governo  PREVIDÊNCIA SOCIAL    SANEAMENTO         SAÚDE  \\\n",
       "count                    7.000000e+00  7.000000e+00  7.000000e+00   \n",
       "mean                     3.379450e+08  9.865362e+06  5.692004e+08   \n",
       "std                      7.208097e+07  1.658957e+07  9.919439e+07   \n",
       "min                      2.418251e+08  2.410000e+04  4.345295e+08   \n",
       "25%                      2.879079e+08  1.679000e+05  5.234236e+08   \n",
       "50%                      3.313503e+08  1.488111e+06  5.357562e+08   \n",
       "75%                      3.883928e+08  1.180844e+07  6.228421e+08   \n",
       "max                      4.398384e+08  4.359265e+07  7.215856e+08   \n",
       "\n",
       "ds_funcao_governo  SEGURANÇA PÚBLICA     URBANISMO  \n",
       "count                   7.000000e+00  7.000000e+00  \n",
       "mean                    2.223303e+07  3.491296e+08  \n",
       "std                     1.705180e+07  7.030944e+07  \n",
       "min                     3.753668e+06  2.293450e+08  \n",
       "25%                     4.318581e+06  3.213182e+08  \n",
       "50%                     3.284097e+07  3.358451e+08  \n",
       "75%                     3.598660e+07  3.969306e+08  \n",
       "max                     3.842620e+07  4.422191e+08  "
      ]
     },
     "execution_count": 25,
     "metadata": {},
     "output_type": "execute_result"
    }
   ],
   "source": [
    "# Criando um DataFrame com as despesas totais das funções governamentais anualmente\n",
    "funções_nominais = pd.DataFrame(dados_1, index = (lista_anos))\n",
    "\n",
    "# Mostrando a estatística descritiva sobre o DataFrame acima\n",
    "funções_nominais.describe()"
   ]
  },
  {
   "cell_type": "code",
   "execution_count": 26,
   "metadata": {
    "execution": {
     "iopub.execute_input": "2020-12-04T18:14:46.917079Z",
     "iopub.status.busy": "2020-12-04T18:14:46.916192Z",
     "iopub.status.idle": "2020-12-04T18:14:46.920785Z",
     "shell.execute_reply": "2020-12-04T18:14:46.920103Z"
    },
    "papermill": {
     "duration": 0.067199,
     "end_time": "2020-12-04T18:14:46.920890",
     "exception": false,
     "start_time": "2020-12-04T18:14:46.853691",
     "status": "completed"
    },
    "tags": []
   },
   "outputs": [
    {
     "data": {
      "text/html": [
       "<div>\n",
       "<style scoped>\n",
       "    .dataframe tbody tr th:only-of-type {\n",
       "        vertical-align: middle;\n",
       "    }\n",
       "\n",
       "    .dataframe tbody tr th {\n",
       "        vertical-align: top;\n",
       "    }\n",
       "\n",
       "    .dataframe thead th {\n",
       "        text-align: right;\n",
       "    }\n",
       "</style>\n",
       "<table border=\"1\" class=\"dataframe\">\n",
       "  <thead>\n",
       "    <tr style=\"text-align: right;\">\n",
       "      <th></th>\n",
       "      <th>Despesa nominal</th>\n",
       "      <th>Despesa atualizada</th>\n",
       "    </tr>\n",
       "  </thead>\n",
       "  <tbody>\n",
       "    <tr>\n",
       "      <th>2014</th>\n",
       "      <td>4.345295e+08</td>\n",
       "      <td>7.042419e+08</td>\n",
       "    </tr>\n",
       "    <tr>\n",
       "      <th>2015</th>\n",
       "      <td>5.113314e+08</td>\n",
       "      <td>7.487484e+08</td>\n",
       "    </tr>\n",
       "    <tr>\n",
       "      <th>2016</th>\n",
       "      <td>5.357562e+08</td>\n",
       "      <td>7.321248e+08</td>\n",
       "    </tr>\n",
       "    <tr>\n",
       "      <th>2017</th>\n",
       "      <td>5.355158e+08</td>\n",
       "      <td>7.349567e+08</td>\n",
       "    </tr>\n",
       "    <tr>\n",
       "      <th>2018</th>\n",
       "      <td>5.666157e+08</td>\n",
       "      <td>7.260548e+08</td>\n",
       "    </tr>\n",
       "    <tr>\n",
       "      <th>2019</th>\n",
       "      <td>6.790684e+08</td>\n",
       "      <td>8.081108e+08</td>\n",
       "    </tr>\n",
       "    <tr>\n",
       "      <th>out/2020</th>\n",
       "      <td>7.215856e+08</td>\n",
       "      <td>7.215856e+08</td>\n",
       "    </tr>\n",
       "  </tbody>\n",
       "</table>\n",
       "</div>"
      ],
      "text/plain": [
       "          Despesa nominal  Despesa atualizada\n",
       "2014         4.345295e+08        7.042419e+08\n",
       "2015         5.113314e+08        7.487484e+08\n",
       "2016         5.357562e+08        7.321248e+08\n",
       "2017         5.355158e+08        7.349567e+08\n",
       "2018         5.666157e+08        7.260548e+08\n",
       "2019         6.790684e+08        8.081108e+08\n",
       "out/2020     7.215856e+08        7.215856e+08"
      ]
     },
     "execution_count": 26,
     "metadata": {},
     "output_type": "execute_result"
    }
   ],
   "source": [
    "# Criando um DataFrame com as despesas nominais e atualizadas em Saúde, o foco do projeto\n",
    "despesas_saúde = pd.DataFrame(funções_nominais['SAÚDE'])\n",
    "inflacionar(despesas_saúde, inflação, 'SAÚDE', 'out/2020')\n",
    "despesas_saúde = despesas_saúde.rename(columns={'SAÚDE': 'Despesa nominal'})\n",
    "\n",
    "despesas_saúde"
   ]
  },
  {
   "cell_type": "code",
   "execution_count": 27,
   "metadata": {
    "execution": {
     "iopub.execute_input": "2020-12-04T18:14:47.040577Z",
     "iopub.status.busy": "2020-12-04T18:14:47.024897Z",
     "iopub.status.idle": "2020-12-04T18:14:47.283791Z",
     "shell.execute_reply": "2020-12-04T18:14:47.283284Z"
    },
    "papermill": {
     "duration": 0.315558,
     "end_time": "2020-12-04T18:14:47.283899",
     "exception": false,
     "start_time": "2020-12-04T18:14:46.968341",
     "status": "completed"
    },
    "tags": []
   },
   "outputs": [
    {
     "data": {
      "text/plain": [
       "<matplotlib.axes._subplots.AxesSubplot at 0x7f2873f74810>"
      ]
     },
     "execution_count": 27,
     "metadata": {},
     "output_type": "execute_result"
    },
    {
     "data": {
      "image/png": "[encoded data removed]",
      "text/plain": [
       "<Figure size 792x504 with 1 Axes>"
      ]
     },
     "metadata": {},
     "output_type": "display_data"
    }
   ],
   "source": [
    "despesas_saúde.plot(kind = 'bar',\n",
    "                    title = 'Qual foi o gasto anual com saúde da Prefeitura de Santos, tendo em vista a inflação?')"
   ]
  },
  {
   "cell_type": "code",
   "execution_count": 28,
   "metadata": {
    "execution": {
     "iopub.execute_input": "2020-12-04T18:14:47.391561Z",
     "iopub.status.busy": "2020-12-04T18:14:47.390884Z",
     "iopub.status.idle": "2020-12-04T18:14:47.456411Z",
     "shell.execute_reply": "2020-12-04T18:14:47.455819Z"
    },
    "papermill": {
     "duration": 0.123787,
     "end_time": "2020-12-04T18:14:47.456525",
     "exception": false,
     "start_time": "2020-12-04T18:14:47.332738",
     "status": "completed"
    },
    "tags": []
   },
   "outputs": [],
   "source": [
    "dados_2 = [por_subfunção_específica(df_2014, 'SAÚDE'),\n",
    "           por_subfunção_específica(df_2015, 'SAÚDE'),\n",
    "           por_subfunção_específica(df_2016, 'SAÚDE'),\n",
    "           por_subfunção_específica(df_2017, 'SAÚDE'),\n",
    "           por_subfunção_específica(df_2018, 'SAÚDE'),\n",
    "           por_subfunção_específica(df_2019, 'SAÚDE'),\n",
    "           por_subfunção_específica(df_2020, 'SAÚDE')]"
   ]
  },
  {
   "cell_type": "code",
   "execution_count": 29,
   "metadata": {
    "execution": {
     "iopub.execute_input": "2020-12-04T18:14:47.568625Z",
     "iopub.status.busy": "2020-12-04T18:14:47.567978Z",
     "iopub.status.idle": "2020-12-04T18:14:47.573249Z",
     "shell.execute_reply": "2020-12-04T18:14:47.572544Z"
    },
    "papermill": {
     "duration": 0.067082,
     "end_time": "2020-12-04T18:14:47.573366",
     "exception": false,
     "start_time": "2020-12-04T18:14:47.506284",
     "status": "completed"
    },
    "tags": []
   },
   "outputs": [
    {
     "data": {
      "text/html": [
       "<div>\n",
       "<style scoped>\n",
       "    .dataframe tbody tr th:only-of-type {\n",
       "        vertical-align: middle;\n",
       "    }\n",
       "\n",
       "    .dataframe tbody tr th {\n",
       "        vertical-align: top;\n",
       "    }\n",
       "\n",
       "    .dataframe thead th {\n",
       "        text-align: right;\n",
       "    }\n",
       "</style>\n",
       "<table border=\"1\" class=\"dataframe\">\n",
       "  <thead>\n",
       "    <tr style=\"text-align: right;\">\n",
       "      <th>ds_subfuncao_governo</th>\n",
       "      <th>ADMINISTRAÇÃO GERAL</th>\n",
       "      <th>ASSISTÊNCIA HOSPITALAR E AMBULATORIAL</th>\n",
       "      <th>ATENÇÃO BÁSICA</th>\n",
       "      <th>SUPORTE PROFILÁTICO E TERAPÊUTICO</th>\n",
       "      <th>VIGILÂNCIA EPIDEMIOLÓGICA</th>\n",
       "      <th>VIGILÂNCIA SANITÁRIA</th>\n",
       "    </tr>\n",
       "  </thead>\n",
       "  <tbody>\n",
       "    <tr>\n",
       "      <th>2014</th>\n",
       "      <td>41308284.03</td>\n",
       "      <td>2.854033e+08</td>\n",
       "      <td>7.567167e+07</td>\n",
       "      <td>9038199.24</td>\n",
       "      <td>23004354.88</td>\n",
       "      <td>103653.95</td>\n",
       "    </tr>\n",
       "    <tr>\n",
       "      <th>2015</th>\n",
       "      <td>41959608.84</td>\n",
       "      <td>3.322066e+08</td>\n",
       "      <td>1.023938e+08</td>\n",
       "      <td>8417617.33</td>\n",
       "      <td>26277276.83</td>\n",
       "      <td>76489.68</td>\n",
       "    </tr>\n",
       "    <tr>\n",
       "      <th>2016</th>\n",
       "      <td>41913847.21</td>\n",
       "      <td>3.626659e+08</td>\n",
       "      <td>9.353615e+07</td>\n",
       "      <td>10141236.10</td>\n",
       "      <td>27352620.05</td>\n",
       "      <td>146429.68</td>\n",
       "    </tr>\n",
       "    <tr>\n",
       "      <th>2017</th>\n",
       "      <td>42129248.12</td>\n",
       "      <td>3.687474e+08</td>\n",
       "      <td>8.942390e+07</td>\n",
       "      <td>8612131.56</td>\n",
       "      <td>26547810.96</td>\n",
       "      <td>55274.89</td>\n",
       "    </tr>\n",
       "    <tr>\n",
       "      <th>2018</th>\n",
       "      <td>42343470.98</td>\n",
       "      <td>4.020712e+08</td>\n",
       "      <td>8.863090e+07</td>\n",
       "      <td>6719697.20</td>\n",
       "      <td>26685718.66</td>\n",
       "      <td>164726.27</td>\n",
       "    </tr>\n",
       "    <tr>\n",
       "      <th>2019</th>\n",
       "      <td>71075750.99</td>\n",
       "      <td>4.611625e+08</td>\n",
       "      <td>1.105544e+08</td>\n",
       "      <td>7394548.86</td>\n",
       "      <td>28707583.69</td>\n",
       "      <td>173591.79</td>\n",
       "    </tr>\n",
       "    <tr>\n",
       "      <th>out/2020</th>\n",
       "      <td>66486959.96</td>\n",
       "      <td>5.176339e+08</td>\n",
       "      <td>1.040910e+08</td>\n",
       "      <td>4832669.59</td>\n",
       "      <td>28498691.83</td>\n",
       "      <td>42338.25</td>\n",
       "    </tr>\n",
       "  </tbody>\n",
       "</table>\n",
       "</div>"
      ],
      "text/plain": [
       "ds_subfuncao_governo  ADMINISTRAÇÃO GERAL  \\\n",
       "2014                          41308284.03   \n",
       "2015                          41959608.84   \n",
       "2016                          41913847.21   \n",
       "2017                          42129248.12   \n",
       "2018                          42343470.98   \n",
       "2019                          71075750.99   \n",
       "out/2020                      66486959.96   \n",
       "\n",
       "ds_subfuncao_governo  ASSISTÊNCIA HOSPITALAR E AMBULATORIAL  ATENÇÃO BÁSICA  \\\n",
       "2014                                           2.854033e+08    7.567167e+07   \n",
       "2015                                           3.322066e+08    1.023938e+08   \n",
       "2016                                           3.626659e+08    9.353615e+07   \n",
       "2017                                           3.687474e+08    8.942390e+07   \n",
       "2018                                           4.020712e+08    8.863090e+07   \n",
       "2019                                           4.611625e+08    1.105544e+08   \n",
       "out/2020                                       5.176339e+08    1.040910e+08   \n",
       "\n",
       "ds_subfuncao_governo  SUPORTE PROFILÁTICO E TERAPÊUTICO  \\\n",
       "2014                                         9038199.24   \n",
       "2015                                         8417617.33   \n",
       "2016                                        10141236.10   \n",
       "2017                                         8612131.56   \n",
       "2018                                         6719697.20   \n",
       "2019                                         7394548.86   \n",
       "out/2020                                     4832669.59   \n",
       "\n",
       "ds_subfuncao_governo  VIGILÂNCIA EPIDEMIOLÓGICA  VIGILÂNCIA SANITÁRIA  \n",
       "2014                                23004354.88             103653.95  \n",
       "2015                                26277276.83              76489.68  \n",
       "2016                                27352620.05             146429.68  \n",
       "2017                                26547810.96              55274.89  \n",
       "2018                                26685718.66             164726.27  \n",
       "2019                                28707583.69             173591.79  \n",
       "out/2020                            28498691.83              42338.25  "
      ]
     },
     "execution_count": 29,
     "metadata": {},
     "output_type": "execute_result"
    }
   ],
   "source": [
    "subfunções_nominais = pd.DataFrame(dados_2, index = (lista_anos))\n",
    "subfunções_nominais"
   ]
  },
  {
   "cell_type": "code",
   "execution_count": 30,
   "metadata": {
    "execution": {
     "iopub.execute_input": "2020-12-04T18:14:47.678694Z",
     "iopub.status.busy": "2020-12-04T18:14:47.678033Z",
     "iopub.status.idle": "2020-12-04T18:14:47.681782Z",
     "shell.execute_reply": "2020-12-04T18:14:47.681229Z"
    },
    "papermill": {
     "duration": 0.057878,
     "end_time": "2020-12-04T18:14:47.681885",
     "exception": false,
     "start_time": "2020-12-04T18:14:47.624007",
     "status": "completed"
    },
    "tags": []
   },
   "outputs": [],
   "source": [
    "# Estilo do gráfico\n",
    "plt.style.use('bmh')\n",
    "# Tamanho do gráfico\n",
    "plt.rcParams['figure.figsize'] = (11,8)"
   ]
  },
  {
   "cell_type": "code",
   "execution_count": 31,
   "metadata": {
    "execution": {
     "iopub.execute_input": "2020-12-04T18:14:47.798513Z",
     "iopub.status.busy": "2020-12-04T18:14:47.787973Z",
     "iopub.status.idle": "2020-12-04T18:14:47.974408Z",
     "shell.execute_reply": "2020-12-04T18:14:47.973851Z"
    },
    "papermill": {
     "duration": 0.243067,
     "end_time": "2020-12-04T18:14:47.974516",
     "exception": false,
     "start_time": "2020-12-04T18:14:47.731449",
     "status": "completed"
    },
    "tags": []
   },
   "outputs": [
    {
     "data": {
      "text/plain": [
       "<matplotlib.axes._subplots.AxesSubplot at 0x7f28728a9610>"
      ]
     },
     "execution_count": 31,
     "metadata": {},
     "output_type": "execute_result"
    },
    {
     "data": {
      "image/png": "[encoded data removed]",
      "text/plain": [
       "<Figure size 792x576 with 1 Axes>"
      ]
     },
     "metadata": {},
     "output_type": "display_data"
    }
   ],
   "source": [
    "subfunções_nominais.plot(grid = False, \n",
    "                         title = 'Como a prefeitura de Santos distribuiu o dinheiro destinado à saúde da população?')"
   ]
  },
  {
   "cell_type": "code",
   "execution_count": 32,
   "metadata": {
    "execution": {
     "iopub.execute_input": "2020-12-04T18:14:48.087322Z",
     "iopub.status.busy": "2020-12-04T18:14:48.086686Z",
     "iopub.status.idle": "2020-12-04T18:14:48.092034Z",
     "shell.execute_reply": "2020-12-04T18:14:48.091323Z"
    },
    "papermill": {
     "duration": 0.065279,
     "end_time": "2020-12-04T18:14:48.092153",
     "exception": false,
     "start_time": "2020-12-04T18:14:48.026874",
     "status": "completed"
    },
    "tags": []
   },
   "outputs": [
    {
     "data": {
      "text/plain": [
       "2014        4.625532e+08\n",
       "2015        4.864539e+08\n",
       "2016        4.955924e+08\n",
       "2017        5.060792e+08\n",
       "2018        5.152094e+08\n",
       "2019        5.487966e+08\n",
       "out/2020    5.176339e+08\n",
       "Name: Despesa atualizada, dtype: float64"
      ]
     },
     "execution_count": 32,
     "metadata": {},
     "output_type": "execute_result"
    }
   ],
   "source": [
    "assistencia = pd.DataFrame(subfunções_nominais['ASSISTÊNCIA HOSPITALAR E AMBULATORIAL'])\n",
    "inflacionar(assistencia, inflação, 'ASSISTÊNCIA HOSPITALAR E AMBULATORIAL', 'out/2020')"
   ]
  },
  {
   "cell_type": "code",
   "execution_count": 33,
   "metadata": {
    "execution": {
     "iopub.execute_input": "2020-12-04T18:14:48.203511Z",
     "iopub.status.busy": "2020-12-04T18:14:48.202744Z",
     "iopub.status.idle": "2020-12-04T18:14:48.206197Z",
     "shell.execute_reply": "2020-12-04T18:14:48.206902Z"
    },
    "papermill": {
     "duration": 0.061297,
     "end_time": "2020-12-04T18:14:48.207080",
     "exception": false,
     "start_time": "2020-12-04T18:14:48.145783",
     "status": "completed"
    },
    "tags": []
   },
   "outputs": [],
   "source": [
    "# Estilo do gráfico\n",
    "plt.style.use('bmh')\n",
    "# Tamanho do gráfico\n",
    "plt.rcParams['figure.figsize'] = (11,5)"
   ]
  },
  {
   "cell_type": "code",
   "execution_count": 34,
   "metadata": {
    "execution": {
     "iopub.execute_input": "2020-12-04T18:14:48.380486Z",
     "iopub.status.busy": "2020-12-04T18:14:48.378272Z",
     "iopub.status.idle": "2020-12-04T18:14:48.534159Z",
     "shell.execute_reply": "2020-12-04T18:14:48.534815Z"
    },
    "papermill": {
     "duration": 0.249692,
     "end_time": "2020-12-04T18:14:48.535021",
     "exception": false,
     "start_time": "2020-12-04T18:14:48.285329",
     "status": "completed"
    },
    "tags": []
   },
   "outputs": [
    {
     "data": {
      "text/plain": [
       "<matplotlib.axes._subplots.AxesSubplot at 0x7f2876195b10>"
      ]
     },
     "execution_count": 34,
     "metadata": {},
     "output_type": "execute_result"
    },
    {
     "data": {
      "image/png": "[encoded data removed]",
      "text/plain": [
       "<Figure size 792x360 with 1 Axes>"
      ]
     },
     "metadata": {},
     "output_type": "display_data"
    }
   ],
   "source": [
    "assistencia.plot(grid = False, \n",
    "                 title = 'Gasto nominal e atualizado com Assistência Hospitalar e Ambulatorial, em Santos')"
   ]
  },
  {
   "cell_type": "code",
   "execution_count": 35,
   "metadata": {
    "execution": {
     "iopub.execute_input": "2020-12-04T18:14:48.705960Z",
     "iopub.status.busy": "2020-12-04T18:14:48.705200Z",
     "iopub.status.idle": "2020-12-04T18:14:48.710853Z",
     "shell.execute_reply": "2020-12-04T18:14:48.710184Z"
    },
    "papermill": {
     "duration": 0.094808,
     "end_time": "2020-12-04T18:14:48.711003",
     "exception": false,
     "start_time": "2020-12-04T18:14:48.616195",
     "status": "completed"
    },
    "tags": []
   },
   "outputs": [
    {
     "data": {
      "text/plain": [
       "2014        6.694834e+07\n",
       "2015        6.144194e+07\n",
       "2016        5.727637e+07\n",
       "2017        5.781935e+07\n",
       "2018        5.425843e+07\n",
       "2019        8.458218e+07\n",
       "out/2020    6.648696e+07\n",
       "Name: Despesa atualizada, dtype: float64"
      ]
     },
     "execution_count": 35,
     "metadata": {},
     "output_type": "execute_result"
    }
   ],
   "source": [
    "administração = pd.DataFrame(subfunções_nominais['ADMINISTRAÇÃO GERAL'])\n",
    "inflacionar(administração, inflação, 'ADMINISTRAÇÃO GERAL', 'out/2020')"
   ]
  },
  {
   "cell_type": "code",
   "execution_count": 36,
   "metadata": {
    "execution": {
     "iopub.execute_input": "2020-12-04T18:14:48.886989Z",
     "iopub.status.busy": "2020-12-04T18:14:48.885803Z",
     "iopub.status.idle": "2020-12-04T18:14:49.047063Z",
     "shell.execute_reply": "2020-12-04T18:14:49.047434Z"
    },
    "papermill": {
     "duration": 0.250202,
     "end_time": "2020-12-04T18:14:49.047568",
     "exception": false,
     "start_time": "2020-12-04T18:14:48.797366",
     "status": "completed"
    },
    "tags": []
   },
   "outputs": [
    {
     "data": {
      "text/plain": [
       "<matplotlib.axes._subplots.AxesSubplot at 0x7f28764f2310>"
      ]
     },
     "execution_count": 36,
     "metadata": {},
     "output_type": "execute_result"
    },
    {
     "data": {
      "image/png": "[encoded data removed]",
      "text/plain": [
       "<Figure size 792x360 with 1 Axes>"
      ]
     },
     "metadata": {},
     "output_type": "display_data"
    }
   ],
   "source": [
    "administração.plot(grid = False, \n",
    "                   title = 'Gasto nominal e atualizado com Administração Geral, em Santos')"
   ]
  },
  {
   "cell_type": "markdown",
   "metadata": {
    "papermill": {
     "duration": 0.039101,
     "end_time": "2020-12-04T18:14:49.159183",
     "exception": false,
     "start_time": "2020-12-04T18:14:49.120082",
     "status": "completed"
    },
    "tags": []
   },
   "source": [
    "## Mapeamento dos estabelecimentos de saúde da cidade"
   ]
  },
  {
   "cell_type": "code",
   "execution_count": 37,
   "metadata": {
    "execution": {
     "iopub.execute_input": "2020-12-04T18:14:49.242291Z",
     "iopub.status.busy": "2020-12-04T18:14:49.241831Z",
     "iopub.status.idle": "2020-12-04T18:14:49.286747Z",
     "shell.execute_reply": "2020-12-04T18:14:49.287278Z"
    },
    "papermill": {
     "duration": 0.088975,
     "end_time": "2020-12-04T18:14:49.287435",
     "exception": false,
     "start_time": "2020-12-04T18:14:49.198460",
     "status": "completed"
    },
    "tags": []
   },
   "outputs": [
    {
     "data": {
      "text/html": [
       "<div>\n",
       "<style scoped>\n",
       "    .dataframe tbody tr th:only-of-type {\n",
       "        vertical-align: middle;\n",
       "    }\n",
       "\n",
       "    .dataframe tbody tr th {\n",
       "        vertical-align: top;\n",
       "    }\n",
       "\n",
       "    .dataframe thead th {\n",
       "        text-align: right;\n",
       "    }\n",
       "</style>\n",
       "<table border=\"1\" class=\"dataframe\">\n",
       "  <thead>\n",
       "    <tr style=\"text-align: right;\">\n",
       "      <th></th>\n",
       "      <th>lat</th>\n",
       "      <th>long</th>\n",
       "      <th>no_fantasia</th>\n",
       "      <th>no_logradouro</th>\n",
       "      <th>cidade</th>\n",
       "      <th>LAT_Real</th>\n",
       "      <th>(Ignore)</th>\n",
       "      <th>LONG_Real</th>\n",
       "      <th>(Ignore)2</th>\n",
       "    </tr>\n",
       "  </thead>\n",
       "  <tbody>\n",
       "    <tr>\n",
       "      <th>0</th>\n",
       "      <td>-239307332038872</td>\n",
       "      <td>-463442587852465</td>\n",
       "      <td>UNIDADE DE SAUDE DA FAMILIA DO VALONGO</td>\n",
       "      <td>RUA PROFESSORA MARIA NEUSA CUNHA</td>\n",
       "      <td>Santos</td>\n",
       "      <td>-23.930733</td>\n",
       "      <td>13</td>\n",
       "      <td>-46.344259</td>\n",
       "      <td>13</td>\n",
       "    </tr>\n",
       "    <tr>\n",
       "      <th>1</th>\n",
       "      <td>-23937493</td>\n",
       "      <td>-463578944</td>\n",
       "      <td>UNIDADE DE SAUDE DA FAMILIA MORRO SANTA MARIA</td>\n",
       "      <td>RUA UM</td>\n",
       "      <td>Santos</td>\n",
       "      <td>-23.937493</td>\n",
       "      <td>6</td>\n",
       "      <td>-46.357894</td>\n",
       "      <td>7</td>\n",
       "    </tr>\n",
       "    <tr>\n",
       "      <th>2</th>\n",
       "      <td>-239549052715295</td>\n",
       "      <td>-46343636512755</td>\n",
       "      <td>SEUB DE SAUDE DO CAMPO GRANDE</td>\n",
       "      <td>RUA DOUTOR CARVALHO MENDONCA</td>\n",
       "      <td>Santos</td>\n",
       "      <td>-23.954905</td>\n",
       "      <td>13</td>\n",
       "      <td>-46.343637</td>\n",
       "      <td>12</td>\n",
       "    </tr>\n",
       "    <tr>\n",
       "      <th>3</th>\n",
       "      <td>-239755690097802</td>\n",
       "      <td>-463100123405443</td>\n",
       "      <td>SEUB DE SAUDE DA APARECIDA</td>\n",
       "      <td>AV PEDRO LESSA</td>\n",
       "      <td>Santos</td>\n",
       "      <td>-23.975569</td>\n",
       "      <td>13</td>\n",
       "      <td>-46.310012</td>\n",
       "      <td>13</td>\n",
       "    </tr>\n",
       "    <tr>\n",
       "      <th>4</th>\n",
       "      <td>-239428889751427</td>\n",
       "      <td>-463467907905565</td>\n",
       "      <td>USF E PRONTO ATENDIMENTO DA NOVA CINTRA</td>\n",
       "      <td>RUA JOSE OZEAS BARBOSA</td>\n",
       "      <td>Santos</td>\n",
       "      <td>-23.942889</td>\n",
       "      <td>13</td>\n",
       "      <td>-46.346791</td>\n",
       "      <td>13</td>\n",
       "    </tr>\n",
       "  </tbody>\n",
       "</table>\n",
       "</div>"
      ],
      "text/plain": [
       "               lat             long  \\\n",
       "0 -239307332038872 -463442587852465   \n",
       "1        -23937493       -463578944   \n",
       "2 -239549052715295  -46343636512755   \n",
       "3 -239755690097802 -463100123405443   \n",
       "4 -239428889751427 -463467907905565   \n",
       "\n",
       "                                     no_fantasia  \\\n",
       "0         UNIDADE DE SAUDE DA FAMILIA DO VALONGO   \n",
       "1  UNIDADE DE SAUDE DA FAMILIA MORRO SANTA MARIA   \n",
       "2                  SEUB DE SAUDE DO CAMPO GRANDE   \n",
       "3                     SEUB DE SAUDE DA APARECIDA   \n",
       "4        USF E PRONTO ATENDIMENTO DA NOVA CINTRA   \n",
       "\n",
       "                      no_logradouro  cidade   LAT_Real  (Ignore)  LONG_Real  \\\n",
       "0  RUA PROFESSORA MARIA NEUSA CUNHA  Santos -23.930733        13 -46.344259   \n",
       "1                            RUA UM  Santos -23.937493         6 -46.357894   \n",
       "2      RUA DOUTOR CARVALHO MENDONCA  Santos -23.954905        13 -46.343637   \n",
       "3                    AV PEDRO LESSA  Santos -23.975569        13 -46.310012   \n",
       "4            RUA JOSE OZEAS BARBOSA  Santos -23.942889        13 -46.346791   \n",
       "\n",
       "   (Ignore)2  \n",
       "0         13  \n",
       "1          7  \n",
       "2         12  \n",
       "3         13  \n",
       "4         13  "
      ]
     },
     "execution_count": 37,
     "metadata": {},
     "output_type": "execute_result"
    }
   ],
   "source": [
    "# Leitura do DataFrame das UBS's de Santos\n",
    "df_ubs = pd.read_excel('../input/ubs-e-caps-em-santos-30/ubs_funcionamentonone_santos3.xlsx')\n",
    "df_ubs.head()"
   ]
  },
  {
   "cell_type": "code",
   "execution_count": 38,
   "metadata": {
    "execution": {
     "iopub.execute_input": "2020-12-04T18:14:49.406262Z",
     "iopub.status.busy": "2020-12-04T18:14:49.405632Z",
     "iopub.status.idle": "2020-12-04T18:14:49.442761Z",
     "shell.execute_reply": "2020-12-04T18:14:49.442082Z"
    },
    "papermill": {
     "duration": 0.098092,
     "end_time": "2020-12-04T18:14:49.442872",
     "exception": false,
     "start_time": "2020-12-04T18:14:49.344780",
     "status": "completed"
    },
    "tags": []
   },
   "outputs": [
    {
     "data": {
      "text/html": [
       "<div>\n",
       "<style scoped>\n",
       "    .dataframe tbody tr th:only-of-type {\n",
       "        vertical-align: middle;\n",
       "    }\n",
       "\n",
       "    .dataframe tbody tr th {\n",
       "        vertical-align: top;\n",
       "    }\n",
       "\n",
       "    .dataframe thead th {\n",
       "        text-align: right;\n",
       "    }\n",
       "</style>\n",
       "<table border=\"1\" class=\"dataframe\">\n",
       "  <thead>\n",
       "    <tr style=\"text-align: right;\">\n",
       "      <th></th>\n",
       "      <th>municipio</th>\n",
       "      <th>estabelecimento</th>\n",
       "      <th>endereco</th>\n",
       "      <th>latitude</th>\n",
       "      <th>Longitude</th>\n",
       "      <th>LAT_Real</th>\n",
       "      <th>(Ignore)</th>\n",
       "      <th>LONG_Real</th>\n",
       "      <th>(Ignore)2</th>\n",
       "    </tr>\n",
       "  </thead>\n",
       "  <tbody>\n",
       "    <tr>\n",
       "      <th>0</th>\n",
       "      <td>Santos</td>\n",
       "      <td>CENTRO ATENCAO PSICOSSOCIAL ALCOOL E DROGAS ZO...</td>\n",
       "      <td>RUA SILVA JARDIM, 354 Bairro: MACUCO CEP: 1101...</td>\n",
       "      <td>-23954121</td>\n",
       "      <td>-46319972</td>\n",
       "      <td>-23.954121</td>\n",
       "      <td>6</td>\n",
       "      <td>-46.319972</td>\n",
       "      <td>6</td>\n",
       "    </tr>\n",
       "    <tr>\n",
       "      <th>1</th>\n",
       "      <td>Santos</td>\n",
       "      <td>CENTRO DE ATENCAO PSICOSSOCIAL PRAIA CAPS PRAIA</td>\n",
       "      <td>AVENIDA CORONEL JOAQUIM MONTENEGRO, 329 Bairro...</td>\n",
       "      <td>-23979073</td>\n",
       "      <td>-46303339</td>\n",
       "      <td>-23.979073</td>\n",
       "      <td>6</td>\n",
       "      <td>-46.303339</td>\n",
       "      <td>6</td>\n",
       "    </tr>\n",
       "    <tr>\n",
       "      <th>2</th>\n",
       "      <td>Santos</td>\n",
       "      <td>CAPS ORQUIDARIO</td>\n",
       "      <td>AVENIDA GENERAL FRANCISCO GLICERIO, 661 Bairro...</td>\n",
       "      <td>-23965279</td>\n",
       "      <td>-46347906</td>\n",
       "      <td>-23.965279</td>\n",
       "      <td>6</td>\n",
       "      <td>-46.347906</td>\n",
       "      <td>6</td>\n",
       "    </tr>\n",
       "    <tr>\n",
       "      <th>3</th>\n",
       "      <td>Santos</td>\n",
       "      <td>CAPS CENTRO</td>\n",
       "      <td>AVENIDA CONSELHEIRO RODRIGUES ALVES, 236 Bairr...</td>\n",
       "      <td>-23955938</td>\n",
       "      <td>-4631651</td>\n",
       "      <td>-23.955938</td>\n",
       "      <td>6</td>\n",
       "      <td>-46.316510</td>\n",
       "      <td>5</td>\n",
       "    </tr>\n",
       "    <tr>\n",
       "      <th>4</th>\n",
       "      <td>Santos</td>\n",
       "      <td>CENTRO DE ATENCAO PSICOSSOCIAL ZONA NOROESTE C...</td>\n",
       "      <td>RUA COMANDANTE BULCAO VIANA, 853 Bairro: BOM R...</td>\n",
       "      <td>-23940752</td>\n",
       "      <td>-46375768</td>\n",
       "      <td>-23.940752</td>\n",
       "      <td>6</td>\n",
       "      <td>-46.375768</td>\n",
       "      <td>6</td>\n",
       "    </tr>\n",
       "  </tbody>\n",
       "</table>\n",
       "</div>"
      ],
      "text/plain": [
       "  municipio                                    estabelecimento  \\\n",
       "0    Santos  CENTRO ATENCAO PSICOSSOCIAL ALCOOL E DROGAS ZO...   \n",
       "1    Santos    CENTRO DE ATENCAO PSICOSSOCIAL PRAIA CAPS PRAIA   \n",
       "2    Santos                                    CAPS ORQUIDARIO   \n",
       "3    Santos                                        CAPS CENTRO   \n",
       "4    Santos  CENTRO DE ATENCAO PSICOSSOCIAL ZONA NOROESTE C...   \n",
       "\n",
       "                                            endereco  latitude  Longitude  \\\n",
       "0  RUA SILVA JARDIM, 354 Bairro: MACUCO CEP: 1101... -23954121  -46319972   \n",
       "1  AVENIDA CORONEL JOAQUIM MONTENEGRO, 329 Bairro... -23979073  -46303339   \n",
       "2  AVENIDA GENERAL FRANCISCO GLICERIO, 661 Bairro... -23965279  -46347906   \n",
       "3  AVENIDA CONSELHEIRO RODRIGUES ALVES, 236 Bairr... -23955938   -4631651   \n",
       "4  RUA COMANDANTE BULCAO VIANA, 853 Bairro: BOM R... -23940752  -46375768   \n",
       "\n",
       "    LAT_Real  (Ignore)  LONG_Real  (Ignore)2  \n",
       "0 -23.954121         6 -46.319972          6  \n",
       "1 -23.979073         6 -46.303339          6  \n",
       "2 -23.965279         6 -46.347906          6  \n",
       "3 -23.955938         6 -46.316510          5  \n",
       "4 -23.940752         6 -46.375768          6  "
      ]
     },
     "execution_count": 38,
     "metadata": {},
     "output_type": "execute_result"
    }
   ],
   "source": [
    "# Leitura do DataFrame de CAPS's de Santos\n",
    "df_caps = pd.read_excel('../input/ubs-e-caps-em-santos-30/CAPS_Santos3.xlsx')\n",
    "df_caps.head()"
   ]
  },
  {
   "cell_type": "code",
   "execution_count": 39,
   "metadata": {
    "_kg_hide-output": true,
    "execution": {
     "iopub.execute_input": "2020-12-04T18:14:49.572373Z",
     "iopub.status.busy": "2020-12-04T18:14:49.571590Z",
     "iopub.status.idle": "2020-12-04T18:14:49.576991Z",
     "shell.execute_reply": "2020-12-04T18:14:49.576313Z"
    },
    "papermill": {
     "duration": 0.075002,
     "end_time": "2020-12-04T18:14:49.577115",
     "exception": false,
     "start_time": "2020-12-04T18:14:49.502113",
     "status": "completed"
    },
    "tags": []
   },
   "outputs": [
    {
     "data": {
      "text/plain": [
       "0    -46.344259\n",
       "1    -46.357894\n",
       "2    -46.343637\n",
       "3    -46.310012\n",
       "4    -46.346791\n",
       "5    -46.340697\n",
       "6    -46.358464\n",
       "7    -46.332285\n",
       "8    -46.357541\n",
       "9    -46.373441\n",
       "10   -46.330230\n",
       "11   -46.334000\n",
       "12   -46.331371\n",
       "13   -46.352928\n",
       "14   -46.387904\n",
       "15   -46.331371\n",
       "16   -46.380243\n",
       "17   -46.349816\n",
       "18   -46.331371\n",
       "19   -46.334000\n",
       "20   -46.300657\n",
       "21   -46.316342\n",
       "22   -46.382282\n",
       "23   -46.322865\n",
       "24   -46.339688\n",
       "25   -46.334000\n",
       "26   -46.366403\n",
       "27   -46.341813\n",
       "28   -46.370480\n",
       "29   -46.335140\n",
       "30   -46.334000\n",
       "0    -46.319972\n",
       "1    -46.303339\n",
       "2    -46.347906\n",
       "3    -46.316510\n",
       "4    -46.375768\n",
       "5    -46.345096\n",
       "Name: LONG_Real, dtype: float64"
      ]
     },
     "execution_count": 39,
     "metadata": {},
     "output_type": "execute_result"
    }
   ],
   "source": [
    "# Definição das listas de Latitude e Longitude dos estabelecimentos\n",
    "latitude = df_ubs['LAT_Real']\n",
    "latitude.append(df_caps['LAT_Real'])\n",
    "longitude = df_ubs['LONG_Real']\n",
    "longitude.append(df_caps['LONG_Real'])"
   ]
  },
  {
   "cell_type": "code",
   "execution_count": 40,
   "metadata": {
    "execution": {
     "iopub.execute_input": "2020-12-04T18:14:49.694313Z",
     "iopub.status.busy": "2020-12-04T18:14:49.693547Z",
     "iopub.status.idle": "2020-12-04T18:14:49.716644Z",
     "shell.execute_reply": "2020-12-04T18:14:49.715896Z"
    },
    "papermill": {
     "duration": 0.080797,
     "end_time": "2020-12-04T18:14:49.716785",
     "exception": false,
     "start_time": "2020-12-04T18:14:49.635988",
     "status": "completed"
    },
    "tags": []
   },
   "outputs": [],
   "source": [
    "# Criando o mapa com zoom em Santos\n",
    "mapa_santos = folium.Map(location=[-23.9549113,-46.3796944], \n",
    "                  zoom_start=13)"
   ]
  },
  {
   "cell_type": "code",
   "execution_count": 41,
   "metadata": {
    "execution": {
     "iopub.execute_input": "2020-12-04T18:14:49.896462Z",
     "iopub.status.busy": "2020-12-04T18:14:49.895793Z",
     "iopub.status.idle": "2020-12-04T18:14:49.901427Z",
     "shell.execute_reply": "2020-12-04T18:14:49.902136Z"
    },
    "papermill": {
     "duration": 0.097891,
     "end_time": "2020-12-04T18:14:49.902324",
     "exception": false,
     "start_time": "2020-12-04T18:14:49.804433",
     "status": "completed"
    },
    "tags": []
   },
   "outputs": [],
   "source": [
    "# Iteração que adiciona as latitudes e longitudes dos estabelecimentos ao mapa\n",
    "for lat, lon in zip(latitude, longitude):\n",
    "    folium.Marker(location=[float(lat), float(lon)]).add_to(mapa_santos)"
   ]
  },
  {
   "cell_type": "code",
   "execution_count": 42,
   "metadata": {
    "execution": {
     "iopub.execute_input": "2020-12-04T18:14:50.033438Z",
     "iopub.status.busy": "2020-12-04T18:14:50.032732Z",
     "iopub.status.idle": "2020-12-04T18:14:50.051752Z",
     "shell.execute_reply": "2020-12-04T18:14:50.051261Z"
    },
    "papermill": {
     "duration": 0.084871,
     "end_time": "2020-12-04T18:14:50.051860",
     "exception": false,
     "start_time": "2020-12-04T18:14:49.966989",
     "status": "completed"
    },
    "tags": []
   },
   "outputs": [
    {
     "data": {
      "text/html": [
       "<div style=\"width:100%;\"><div style=\"position:relative;width:100%;height:0;padding-bottom:60%;\"><span style=\"color:#565656\">Make this Notebook Trusted to load map: File -> Trust Notebook</span><iframe src=\"about:blank\" style=\"position:absolute;width:100%;height:100%;left:0;top:0;border:none !important;\" data-html=PCFET0NUWVBFIGh0bWw+CjxoZWFkPiAgICAKICAgIDxtZXRhIGh0dHAtZXF1aXY9ImNvbnRlbnQtdHlwZSIgY29udGVudD0idGV4dC9odG1sOyBjaGFyc2V0PVVURi04IiAvPgogICAgCiAgICAgICAgPHNjcmlwdD4KICAgICAgICAgICAgTF9OT19UT1VDSCA9IGZhbHNlOwogICAgICAgICAgICBMX0RJU0FCTEVfM0QgPSBmYWxzZTsKICAgICAgICA8L3NjcmlwdD4KICAgIAogICAgPHNjcmlwdCBzcmM9Imh0dHBzOi8vY2RuLmpzZGVsaXZyLm5ldC9ucG0vbGVhZmxldEAxLjYuMC9kaXN0L2xlYWZsZXQuanMiPjwvc2NyaXB0PgogICAgPHNjcmlwdCBzcmM9Imh0dHBzOi8vY29kZS5qcXVlcnkuY29tL2pxdWVyeS0xLjEyLjQubWluLmpzIj48L3NjcmlwdD4KICAgIDxzY3JpcHQgc3JjPSJodHRwczovL21heGNkbi5ib290c3RyYXBjZG4uY29tL2Jvb3RzdHJhcC8zLjIuMC9qcy9ib290c3RyYXAubWluLmpzIj48L3NjcmlwdD4KICAgIDxzY3JpcHQgc3JjPSJodHRwczovL2NkbmpzLmNsb3VkZmxhcmUuY29tL2FqYXgvbGlicy9MZWFmbGV0LmF3ZXNvbWUtbWFya2Vycy8yLjAuMi9sZWFmbGV0LmF3ZXNvbWUtbWFya2Vycy5qcyI+PC9zY3JpcHQ+CiAgICA8bGluayByZWw9InN0eWxlc2hlZXQiIGhyZWY9Imh0dHBzOi8vY2RuLmpzZGVsaXZyLm5ldC9ucG0vbGVhZmxldEAxLjYuMC9kaXN0L2xlYWZsZXQuY3NzIi8+CiAgICA8bGluayByZWw9InN0eWxlc2hlZXQiIGhyZWY9Imh0dHBzOi8vbWF4Y2RuLmJvb3RzdHJhcGNkbi5jb20vYm9vdHN0cmFwLzMuMi4wL2Nzcy9ib290c3RyYXAubWluLmNzcyIvPgogICAgPGxpbmsgcmVsPSJzdHlsZXNoZWV0IiBocmVmPSJodHRwczovL21heGNkbi5ib290c3RyYXBjZG4uY29tL2Jvb3RzdHJhcC8zLjIuMC9jc3MvYm9vdHN0cmFwLXRoZW1lLm1pbi5jc3MiLz4KICAgIDxsaW5rIHJlbD0ic3R5bGVzaGVldCIgaHJlZj0iaHR0cHM6Ly9tYXhjZG4uYm9vdHN0cmFwY2RuLmNvbS9mb250LWF3ZXNvbWUvNC42LjMvY3NzL2ZvbnQtYXdlc29tZS5taW4uY3NzIi8+CiAgICA8bGluayByZWw9InN0eWxlc2hlZXQiIGhyZWY9Imh0dHBzOi8vY2RuanMuY2xvdWRmbGFyZS5jb20vYWpheC9saWJzL0xlYWZsZXQuYXdlc29tZS1tYXJrZXJzLzIuMC4yL2xlYWZsZXQuYXdlc29tZS1tYXJrZXJzLmNzcyIvPgogICAgPGxpbmsgcmVsPSJzdHlsZXNoZWV0IiBocmVmPSJodHRwczovL3Jhd2Nkbi5naXRoYWNrLmNvbS9weXRob24tdmlzdWFsaXphdGlvbi9mb2xpdW0vbWFzdGVyL2ZvbGl1bS90ZW1wbGF0ZXMvbGVhZmxldC5hd2Vzb21lLnJvdGF0ZS5jc3MiLz4KICAgIDxzdHlsZT5odG1sLCBib2R5IHt3aWR0aDogMTAwJTtoZWlnaHQ6IDEwMCU7bWFyZ2luOiAwO3BhZGRpbmc6IDA7fTwvc3R5bGU+CiAgICA8c3R5bGU+I21hcCB7cG9zaXRpb246YWJzb2x1dGU7dG9wOjA7Ym90dG9tOjA7cmlnaHQ6MDtsZWZ0OjA7fTwvc3R5bGU+CiAgICAKICAgICAgICAgICAgPG1ldGEgbmFtZT0idmlld3BvcnQiIGNvbnRlbnQ9IndpZHRoPWRldmljZS13aWR0aCwKICAgICAgICAgICAgICAgIGluaXRpYWwtc2NhbGU9MS4wLCBtYXhpbXVtLXNjYWxlPTEuMCwgdXNlci1zY2FsYWJsZT1ubyIgLz4KICAgICAgICAgICAgPHN0eWxlPgogICAgICAgICAgICAgICAgI21hcF8yZmZkZmZmYzUzN2E0NDkxOTY3NmRlOTRjZDQ2NmUzZCB7CiAgICAgICAgICAgICAgICAgICAgcG9zaXRpb246IHJlbGF0aXZlOwogICAgICAgICAgICAgICAgICAgIHdpZHRoOiAxMDAuMCU7CiAgICAgICAgICAgICAgICAgICAgaGVpZ2h0OiAxMDAuMCU7CiAgICAgICAgICAgICAgICAgICAgbGVmdDogMC4wJTsKICAgICAgICAgICAgICAgICAgICB0b3A6IDAuMCU7CiAgICAgICAgICAgICAgICB9CiAgICAgICAgICAgIDwvc3R5bGU+CiAgICAgICAgCjwvaGVhZD4KPGJvZHk+ICAgIAogICAgCiAgICAgICAgICAgIDxkaXYgY2xhc3M9ImZvbGl1bS1tYXAiIGlkPSJtYXBfMmZmZGZmZmM1MzdhNDQ5MTk2NzZkZTk0Y2Q0NjZlM2QiID48L2Rpdj4KICAgICAgICAKPC9ib2R5Pgo8c2NyaXB0PiAgICAKICAgIAogICAgICAgICAgICB2YXIgbWFwXzJmZmRmZmZjNTM3YTQ0OTE5Njc2ZGU5NGNkNDY2ZTNkID0gTC5tYXAoCiAgICAgICAgICAgICAgICAibWFwXzJmZmRmZmZjNTM3YTQ0OTE5Njc2ZGU5NGNkNDY2ZTNkIiwKICAgICAgICAgICAgICAgIHsKICAgICAgICAgICAgICAgICAgICBjZW50ZXI6IFstMjMuOTU0OTExMywgLTQ2LjM3OTY5NDRdLAogICAgICAgICAgICAgICAgICAgIGNyczogTC5DUlMuRVBTRzM4NTcsCiAgICAgICAgICAgICAgICAgICAgem9vbTogMTMsCiAgICAgICAgICAgICAgICAgICAgem9vbUNvbnRyb2w6IHRydWUsCiAgICAgICAgICAgICAgICAgICAgcHJlZmVyQ2FudmFzOiBmYWxzZSwKICAgICAgICAgICAgICAgIH0KICAgICAgICAgICAgKTsKCiAgICAgICAgICAgIAoKICAgICAgICAKICAgIAogICAgICAgICAgICB2YXIgdGlsZV9sYXllcl83ZDQ5MWQ5NTI1MTI0MzM4YmNhZDFmZGM5ODBiN2E1MyA9IEwudGlsZUxheWVyKAogICAgICAgICAgICAgICAgImh0dHBzOi8ve3N9LnRpbGUub3BlbnN0cmVldG1hcC5vcmcve3p9L3t4fS97eX0ucG5nIiwKICAgICAgICAgICAgICAgIHsiYXR0cmlidXRpb24iOiAiRGF0YSBieSBcdTAwMjZjb3B5OyBcdTAwM2NhIGhyZWY9XCJodHRwOi8vb3BlbnN0cmVldG1hcC5vcmdcIlx1MDAzZU9wZW5TdHJlZXRNYXBcdTAwM2MvYVx1MDAzZSwgdW5kZXIgXHUwMDNjYSBocmVmPVwiaHR0cDovL3d3dy5vcGVuc3RyZWV0bWFwLm9yZy9jb3B5cmlnaHRcIlx1MDAzZU9EYkxcdTAwM2MvYVx1MDAzZS4iLCAiZGV0ZWN0UmV0aW5hIjogZmFsc2UsICJtYXhOYXRpdmVab29tIjogMTgsICJtYXhab29tIjogMTgsICJtaW5ab29tIjogMCwgIm5vV3JhcCI6IGZhbHNlLCAib3BhY2l0eSI6IDEsICJzdWJkb21haW5zIjogImFiYyIsICJ0bXMiOiBmYWxzZX0KICAgICAgICAgICAgKS5hZGRUbyhtYXBfMmZmZGZmZmM1MzdhNDQ5MTk2NzZkZTk0Y2Q0NjZlM2QpOwogICAgICAgIAogICAgCiAgICAgICAgICAgIHZhciBtYXJrZXJfMmVlZjNlMTBmZTBmNGYxNGIzZDQxMWM0ZGQ2MDU3NzggPSBMLm1hcmtlcigKICAgICAgICAgICAgICAgIFstMjMuOTMwNzMzMjAzODg3MiwgLTQ2LjM0NDI1ODc4NTI0NjQ5NV0sCiAgICAgICAgICAgICAgICB7fQogICAgICAgICAgICApLmFkZFRvKG1hcF8yZmZkZmZmYzUzN2E0NDkxOTY3NmRlOTRjZDQ2NmUzZCk7CiAgICAgICAgCiAgICAKICAgICAgICAgICAgdmFyIG1hcmtlcl84MTU4MzJhMGZlOWE0NmRkOWNiNzIxMTkyMTM1NGQyMiA9IEwubWFya2VyKAogICAgICAgICAgICAgICAgWy0yMy45Mzc0OTMsIC00Ni4zNTc4OTQ0XSwKICAgICAgICAgICAgICAgIHt9CiAgICAgICAgICAgICkuYWRkVG8obWFwXzJmZmRmZmZjNTM3YTQ0OTE5Njc2ZGU5NGNkNDY2ZTNkKTsKICAgICAgICAKICAgIAogICAgICAgICAgICB2YXIgbWFya2VyX2I1ODhjMGM4OGFjYjQ5MmE4Y2I5NGJkM2JkZTg3Y2UyID0gTC5tYXJrZXIoCiAgICAgICAgICAgICAgICBbLTIzLjk1NDkwNTI3MTUyOTQ5OCwgLTQ2LjM0MzYzNjUxMjc1NTAwNV0sCiAgICAgICAgICAgICAgICB7fQogICAgICAgICAgICApLmFkZFRvKG1hcF8yZmZkZmZmYzUzN2E0NDkxOTY3NmRlOTRjZDQ2NmUzZCk7CiAgICAgICAgCiAgICAKICAgICAgICAgICAgdmFyIG1hcmtlcl9iYjY3MzIxYTNiNDk0OGY3YTc1MDFiNDkyNTdmOTIxZSA9IEwubWFya2VyKAogICAgICAgICAgICAgICAgWy0yMy45NzU1NjkwMDk3ODAxOTgsIC00Ni4zMTAwMTIzNDA1NDQzXSwKICAgICAgICAgICAgICAgIHt9CiAgICAgICAgICAgICkuYWRkVG8obWFwXzJmZmRmZmZjNTM3YTQ0OTE5Njc2ZGU5NGNkNDY2ZTNkKTsKICAgICAgICAKICAgIAogICAgICAgICAgICB2YXIgbWFya2VyX2Y5NWZiZTg5NGVlMDQyYjNhMWFhMzFhYjAzZmNlMDc0ID0gTC5tYXJrZXIoCiAgICAgICAgICAgICAgICBbLTIzLjk0Mjg4ODk3NTE0MjY5NywgLTQ2LjM0Njc5MDc5MDU1NjVdLAogICAgICAgICAgICAgICAge30KICAgICAgICAgICAgKS5hZGRUbyhtYXBfMmZmZGZmZmM1MzdhNDQ5MTk2NzZkZTk0Y2Q0NjZlM2QpOwogICAgICAgIAogICAgCiAgICAgICAgICAgIHZhciBtYXJrZXJfN2Q0OTUwZDFhZWQ2NGVkOWJjYjFlOGExZDczOTU4NTggPSBMLm1hcmtlcigKICAgICAgICAgICAgICAgIFstMjMuOTM0ODMxNjE5MjYyLCAtNDYuMzQwNjk2ODExNjc0N10sCiAgICAgICAgICAgICAgICB7fQogICAgICAgICAgICApLmFkZFRvKG1hcF8yZmZkZmZmYzUzN2E0NDkxOTY3NmRlOTRjZDQ2NmUzZCk7CiAgICAgICAgCiAgICAKICAgICAgICAgICAgdmFyIG1hcmtlcl8zOGRiMzExNTUyYjY0MzkzODg1N2YzZDRkYmQ3MDgwNCA9IEwubWFya2VyKAogICAgICAgICAgICAgICAgWy0yMy45MzIyMTM3ODMyNjM1MDMsIC00Ni4zNTg0NjM3NjQxODkzXSwKICAgICAgICAgICAgICAgIHt9CiAgICAgICAgICAgICkuYWRkVG8obWFwXzJmZmRmZmZjNTM3YTQ0OTE5Njc2ZGU5NGNkNDY2ZTNkKTsKICAgICAgICAKICAgIAogICAgICAgICAgICB2YXIgbWFya2VyXzNjNmUwZTg1NGI0YjQ3N2M4Yzg2NGE1MmY3ZWMwODY4ID0gTC5tYXJrZXIoCiAgICAgICAgICAgICAgICBbLTIzLjk2MzY4MTQ1OTQyNjE5OCwgLTQ2LjMzMjI4NTQwNDIwMzk5XSwKICAgICAgICAgICAgICAgIHt9CiAgICAgICAgICAgICkuYWRkVG8obWFwXzJmZmRmZmZjNTM3YTQ0OTE5Njc2ZGU5NGNkNDY2ZTNkKTsKICAgICAgICAKICAgIAogICAgICAgICAgICB2YXIgbWFya2VyX2ZiZjI4MzU5N2U1NzQwN2ZhZDVhYjlmZTJmYjI5MzA3ID0gTC5tYXJrZXIoCiAgICAgICAgICAgICAgICBbLTIzLjk2MzA5MTM3MzQ0Mjg5NywgLTQ2LjM1NzU0MTA4NDI4ODIxXSwKICAgICAgICAgICAgICAgIHt9CiAgICAgICAgICAgICkuYWRkVG8obWFwXzJmZmRmZmZjNTM3YTQ0OTE5Njc2ZGU5NGNkNDY2ZTNkKTsKICAgICAgICAKICAgIAogICAgICAgICAgICB2YXIgbWFya2VyX2Q4MGUzZDBmMTQ1ODQ1NTdiYzgxNWYyMWMwOTBjODkxID0gTC5tYXJrZXIoCiAgICAgICAgICAgICAgICBbLTIzLjk0NTU4MTkxMjk5MzcsIC00Ni4zNzM0NDEyMTkzMjg1XSwKICAgICAgICAgICAgICAgIHt9CiAgICAgICAgICAgICkuYWRkVG8obWFwXzJmZmRmZmZjNTM3YTQ0OTE5Njc2ZGU5NGNkNDY2ZTNkKTsKICAgICAgICAKICAgIAogICAgICAgICAgICB2YXIgbWFya2VyXzVhZjM2NzhlMDExYTQzYTU5MDFjOGQxODA5ODYzMzAyID0gTC5tYXJrZXIoCiAgICAgICAgICAgICAgICBbLTIzLjkzNDMxLCAtNDYuMzMwMjNdLAogICAgICAgICAgICAgICAge30KICAgICAgICAgICAgKS5hZGRUbyhtYXBfMmZmZGZmZmM1MzdhNDQ5MTk2NzZkZTk0Y2Q0NjZlM2QpOwogICAgICAgIAogICAgCiAgICAgICAgICAgIHZhciBtYXJrZXJfMjhmODU2MjQ1OTQzNGQ4MTkzYTgxZTk2ZjlkMTQ2ZjQgPSBMLm1hcmtlcigKICAgICAgICAgICAgICAgIFstMjMuOTYxLCAtNDYuMzMzOTk5OTk5OTk5OTk2XSwKICAgICAgICAgICAgICAgIHt9CiAgICAgICAgICAgICkuYWRkVG8obWFwXzJmZmRmZmZjNTM3YTQ0OTE5Njc2ZGU5NGNkNDY2ZTNkKTsKICAgICAgICAKICAgIAogICAgICAgICAgICB2YXIgbWFya2VyX2E4YzAyZWI3MTU0NTQ2MjdhY2Y1NGY3YTFlMTIwNjg0ID0gTC5tYXJrZXIoCiAgICAgICAgICAgICAgICBbLTIzLjkzMzczNzUsIC00Ni4zMzEzNzA4NDkxOTA3MDVdLAogICAgICAgICAgICAgICAge30KICAgICAgICAgICAgKS5hZGRUbyhtYXBfMmZmZGZmZmM1MzdhNDQ5MTk2NzZkZTk0Y2Q0NjZlM2QpOwogICAgICAgIAogICAgCiAgICAgICAgICAgIHZhciBtYXJrZXJfN2Y0ZTE3OGExZGUwNDM1ODg0NmY3YzJjOTMxZTFjMjMgPSBMLm1hcmtlcigKICAgICAgICAgICAgICAgIFstMjMuOTM5MTAxNjk2MDEzNjk3LCAtNDYuMzUyOTI3Njg0NzgyNl0sCiAgICAgICAgICAgICAgICB7fQogICAgICAgICAgICApLmFkZFRvKG1hcF8yZmZkZmZmYzUzN2E0NDkxOTY3NmRlOTRjZDQ2NmUzZCk7CiAgICAgICAgCiAgICAKICAgICAgICAgICAgdmFyIG1hcmtlcl81NWZmNzM0M2Y2MDk0NzNlYTQ1ZjkxY2FiYzMxOTg4YyA9IEwubWFya2VyKAogICAgICAgICAgICAgICAgWy0yMy45MjU1NzI2MzM3NDI2LCAtNDYuMzg3OTAzNjkwMzM2OF0sCiAgICAgICAgICAgICAgICB7fQogICAgICAgICAgICApLmFkZFRvKG1hcF8yZmZkZmZmYzUzN2E0NDkxOTY3NmRlOTRjZDQ2NmUzZCk7CiAgICAgICAgCiAgICAKICAgICAgICAgICAgdmFyIG1hcmtlcl8wYmZlZTUwYzRkMDk0NzIxYjg1MmIzNGNhZjQzZmY0NSA9IEwubWFya2VyKAogICAgICAgICAgICAgICAgWy0yMy45MzM3Mzc1LCAtNDYuMzMxMzcwODQ5MTkwNzA1XSwKICAgICAgICAgICAgICAgIHt9CiAgICAgICAgICAgICkuYWRkVG8obWFwXzJmZmRmZmZjNTM3YTQ0OTE5Njc2ZGU5NGNkNDY2ZTNkKTsKICAgICAgICAKICAgIAogICAgICAgICAgICB2YXIgbWFya2VyX2JlYTQzOGQzNDc0OTQ5MGU5YmNkN2QwMGI3NjYxNDU3ID0gTC5tYXJrZXIoCiAgICAgICAgICAgICAgICBbLTIzLjkyOTYwNjY3NjEwMSwgLTQ2LjM4MDI0MzMwMTM5MDI5NF0sCiAgICAgICAgICAgICAgICB7fQogICAgICAgICAgICApLmFkZFRvKG1hcF8yZmZkZmZmYzUzN2E0NDkxOTY3NmRlOTRjZDQ2NmUzZCk7CiAgICAgICAgCiAgICAKICAgICAgICAgICAgdmFyIG1hcmtlcl9iZTQyZTdlYmQxZDI0Mzk5YTUwMTM3OWI1ZDQ3YTRiNSA9IEwubWFya2VyKAogICAgICAgICAgICAgICAgWy0yMy45NTIzMTk2MjIwMzkxMDIsIC00Ni4zNDk4MTYzMjIzMjUyOTZdLAogICAgICAgICAgICAgICAge30KICAgICAgICAgICAgKS5hZGRUbyhtYXBfMmZmZGZmZmM1MzdhNDQ5MTk2NzZkZTk0Y2Q0NjZlM2QpOwogICAgICAgIAogICAgCiAgICAgICAgICAgIHZhciBtYXJrZXJfM2QzNTFiZmUwODU2NGM2YjliY2MzYTViMzNlMDUwYzkgPSBMLm1hcmtlcigKICAgICAgICAgICAgICAgIFstMjMuOTMzNzM3NSwgLTQ2LjMzMTM3MDg0OTE5MDcwNV0sCiAgICAgICAgICAgICAgICB7fQogICAgICAgICAgICApLmFkZFRvKG1hcF8yZmZkZmZmYzUzN2E0NDkxOTY3NmRlOTRjZDQ2NmUzZCk7CiAgICAgICAgCiAgICAKICAgICAgICAgICAgdmFyIG1hcmtlcl8xNGYxZmM3NDA0YTQ0ZjIxOTFjNWNkNjg2NDdmNTgyZSA9IEwubWFya2VyKAogICAgICAgICAgICAgICAgWy0yMy45NjEsIC00Ni4zMzM5OTk5OTk5OTk5OTZdLAogICAgICAgICAgICAgICAge30KICAgICAgICAgICAgKS5hZGRUbyhtYXBfMmZmZGZmZmM1MzdhNDQ5MTk2NzZkZTk0Y2Q0NjZlM2QpOwogICAgICAgIAogICAgCiAgICAgICAgICAgIHZhciBtYXJrZXJfNmYzN2YwMzVhMDk2NDNmNGFiMDk1MTUzZDA2OWQ4OTUgPSBMLm1hcmtlcigKICAgICAgICAgICAgICAgIFstMjMuOTgwOTQ0MTU2NjQ2LCAtNDYuMzAwNjU2Nzk1NTAwNF0sCiAgICAgICAgICAgICAgICB7fQogICAgICAgICAgICApLmFkZFRvKG1hcF8yZmZkZmZmYzUzN2E0NDkxOTY3NmRlOTRjZDQ2NmUzZCk7CiAgICAgICAgCiAgICAKICAgICAgICAgICAgdmFyIG1hcmtlcl82OGY2NzRhNGUxNzY0OWRjODU0OGE3YmRkOGY2NTYyMCA9IEwubWFya2VyKAogICAgICAgICAgICAgICAgWy0yMy45MzUxNTM0ODQzNDM4LCAtNDYuMzE2MzQyMzUzODE5NV0sCiAgICAgICAgICAgICAgICB7fQogICAgICAgICAgICApLmFkZFRvKG1hcF8yZmZkZmZmYzUzN2E0NDkxOTY3NmRlOTRjZDQ2NmUzZCk7CiAgICAgICAgCiAgICAKICAgICAgICAgICAgdmFyIG1hcmtlcl8zNjc3OTRlNjMwMzE0NGU4YjdlNDEwOWRkZTMzNTRlZSA9IEwubWFya2VyKAogICAgICAgICAgICAgICAgWy0yMy45NDA0MzIwNzE2ODUxLCAtNDYuMzgyMjgxNzgwMjQxNjA1XSwKICAgICAgICAgICAgICAgIHt9CiAgICAgICAgICAgICkuYWRkVG8obWFwXzJmZmRmZmZjNTM3YTQ0OTE5Njc2ZGU5NGNkNDY2ZTNkKTsKICAgICAgICAKICAgIAogICAgICAgICAgICB2YXIgbWFya2VyX2Q1ZTQ4MmVhNmY4NTQ1NzhiZGY5MmUzZTEwOTI2OTUwID0gTC5tYXJrZXIoCiAgICAgICAgICAgICAgICBbLTIzLjk1NjMzMjIwNjcyNTM5NiwgLTQ2LjMyMjg2NTQ4NjE0MzcwNV0sCiAgICAgICAgICAgICAgICB7fQogICAgICAgICAgICApLmFkZFRvKG1hcF8yZmZkZmZmYzUzN2E0NDkxOTY3NmRlOTRjZDQ2NmUzZCk7CiAgICAgICAgCiAgICAKICAgICAgICAgICAgdmFyIG1hcmtlcl9kZTIzMTBiOWU5NGE0NzY5YWEyNDhlNjI3YWMwNjA5NCA9IEwubWFya2VyKAogICAgICAgICAgICAgICAgWy0yMy45NjY3OTI4MjE4ODM1LCAtNDYuMzM5Njg4MzAxMDg1MV0sCiAgICAgICAgICAgICAgICB7fQogICAgICAgICAgICApLmFkZFRvKG1hcF8yZmZkZmZmYzUzN2E0NDkxOTY3NmRlOTRjZDQ2NmUzZCk7CiAgICAgICAgCiAgICAKICAgICAgICAgICAgdmFyIG1hcmtlcl9jZDViMDY4YWYxNDc0ZWIxYjFiZWZlZjg4NGU2NTMwYSA9IEwubWFya2VyKAogICAgICAgICAgICAgICAgWy0yMy45NjEsIC00Ni4zMzM5OTk5OTk5OTk5OTZdLAogICAgICAgICAgICAgICAge30KICAgICAgICAgICAgKS5hZGRUbyhtYXBfMmZmZGZmZmM1MzdhNDQ5MTk2NzZkZTk0Y2Q0NjZlM2QpOwogICAgICAgIAogICAgCiAgICAgICAgICAgIHZhciBtYXJrZXJfNDY2MDgwZmVhOTY5NDczOGJkYmE1N2U1ZjA1ZTkyMWUgPSBMLm1hcmtlcigKICAgICAgICAgICAgICAgIFstMjMuOTQyOTEwNDMyODE0ODk4LCAtNDYuMzY2NDAzMTAyODczNF0sCiAgICAgICAgICAgICAgICB7fQogICAgICAgICAgICApLmFkZFRvKG1hcF8yZmZkZmZmYzUzN2E0NDkxOTY3NmRlOTRjZDQ2NmUzZCk7CiAgICAgICAgCiAgICAKICAgICAgICAgICAgdmFyIG1hcmtlcl9hYWVkMjM1Yzc3YmI0YTUwOWJjOWJiMmQ4NzhmY2E4ZiA9IEwubWFya2VyKAogICAgICAgICAgICAgICAgWy0yMy45NDE5NzcwMjQwNzc3LCAtNDYuMzQxODEyNjEwNjI0ODldLAogICAgICAgICAgICAgICAge30KICAgICAgICAgICAgKS5hZGRUbyhtYXBfMmZmZGZmZmM1MzdhNDQ5MTk2NzZkZTk0Y2Q0NjZlM2QpOwogICAgICAgIAogICAgCiAgICAgICAgICAgIHZhciBtYXJrZXJfYzQ4NTQzOGViMjQ5NGUwYjhmZTRmZGMzZTgwNDVhODQgPSBMLm1hcmtlcigKICAgICAgICAgICAgICAgIFstMjMuOTM2MDExNzkxMjI4NTk4LCAtNDYuMzcwNDgwMDYwNTc2XSwKICAgICAgICAgICAgICAgIHt9CiAgICAgICAgICAgICkuYWRkVG8obWFwXzJmZmRmZmZjNTM3YTQ0OTE5Njc2ZGU5NGNkNDY2ZTNkKTsKICAgICAgICAKICAgIAogICAgICAgICAgICB2YXIgbWFya2VyXzM0YjdjYjExMmRlMzQzYjM4ODVkYjBiNjI3OTFkYzRkID0gTC5tYXJrZXIoCiAgICAgICAgICAgICAgICBbLTIzLjk2NDEyOTk5OTk5OTk5NywgLTQ2LjMzNTE0XSwKICAgICAgICAgICAgICAgIHt9CiAgICAgICAgICAgICkuYWRkVG8obWFwXzJmZmRmZmZjNTM3YTQ0OTE5Njc2ZGU5NGNkNDY2ZTNkKTsKICAgICAgICAKICAgIAogICAgICAgICAgICB2YXIgbWFya2VyXzQ5MTIwMmMzNDZjYTRjOWNiNDk2ZDU1YzNlZDE5NjRjID0gTC5tYXJrZXIoCiAgICAgICAgICAgICAgICBbLTIzLjk2MSwgLTQ2LjMzMzk5OTk5OTk5OTk5Nl0sCiAgICAgICAgICAgICAgICB7fQogICAgICAgICAgICApLmFkZFRvKG1hcF8yZmZkZmZmYzUzN2E0NDkxOTY3NmRlOTRjZDQ2NmUzZCk7CiAgICAgICAgCjwvc2NyaXB0Pg== onload=\"this.contentDocument.open();this.contentDocument.write(atob(this.getAttribute('data-html')));this.contentDocument.close();\" allowfullscreen webkitallowfullscreen mozallowfullscreen></iframe></div></div>"
      ],
      "text/plain": [
       "<folium.folium.Map at 0x7f287750f190>"
      ]
     },
     "execution_count": 42,
     "metadata": {},
     "output_type": "execute_result"
    }
   ],
   "source": [
    "mapa_santos"
   ]
  },
  {
   "cell_type": "markdown",
   "metadata": {
    "papermill": {
     "duration": 0.058772,
     "end_time": "2020-12-04T18:14:50.169236",
     "exception": false,
     "start_time": "2020-12-04T18:14:50.110464",
     "status": "completed"
    },
    "tags": []
   },
   "source": [
    "### Comentário do mapa\n",
    "Observa-se uma centralização na localização dos estabelecimentos, em que o extremo sudeste possui somente duas UBS's"
   ]
  },
  {
   "cell_type": "markdown",
   "metadata": {
    "papermill": {
     "duration": 0.059223,
     "end_time": "2020-12-04T18:14:50.287911",
     "exception": false,
     "start_time": "2020-12-04T18:14:50.228688",
     "status": "completed"
    },
    "tags": []
   },
   "source": [
    "## Análise da Cobertura de Atenção Básica de AGO/19 a JUL/20"
   ]
  },
  {
   "cell_type": "code",
   "execution_count": 43,
   "metadata": {
    "execution": {
     "iopub.execute_input": "2020-12-04T18:14:50.409749Z",
     "iopub.status.busy": "2020-12-04T18:14:50.409063Z",
     "iopub.status.idle": "2020-12-04T18:14:50.459290Z",
     "shell.execute_reply": "2020-12-04T18:14:50.458746Z"
    },
    "papermill": {
     "duration": 0.112668,
     "end_time": "2020-12-04T18:14:50.459401",
     "exception": false,
     "start_time": "2020-12-04T18:14:50.346733",
     "status": "completed"
    },
    "tags": []
   },
   "outputs": [
    {
     "data": {
      "text/html": [
       "<div>\n",
       "<style scoped>\n",
       "    .dataframe tbody tr th:only-of-type {\n",
       "        vertical-align: middle;\n",
       "    }\n",
       "\n",
       "    .dataframe tbody tr th {\n",
       "        vertical-align: top;\n",
       "    }\n",
       "\n",
       "    .dataframe thead th {\n",
       "        text-align: right;\n",
       "    }\n",
       "</style>\n",
       "<table border=\"1\" class=\"dataframe\">\n",
       "  <thead>\n",
       "    <tr style=\"text-align: right;\">\n",
       "      <th></th>\n",
       "      <th>Competência</th>\n",
       "      <th>Macrorregião</th>\n",
       "      <th>UF</th>\n",
       "      <th>IBGE</th>\n",
       "      <th>Município</th>\n",
       "      <th>População</th>\n",
       "      <th>Nº ESF Cob.</th>\n",
       "      <th>Nº EAB Param. Cob.</th>\n",
       "      <th>CH Médico</th>\n",
       "      <th>CH Enfermeiro</th>\n",
       "      <th>Nº eSF equivalente</th>\n",
       "      <th>Estim. Pop. Cob. ESF</th>\n",
       "      <th>Cobertura ESF</th>\n",
       "      <th>Estim. Pop. Cob. AB</th>\n",
       "      <th>Cobertura AB</th>\n",
       "    </tr>\n",
       "  </thead>\n",
       "  <tbody>\n",
       "    <tr>\n",
       "      <th>0</th>\n",
       "      <td>2019-08-01</td>\n",
       "      <td>SUDESTE</td>\n",
       "      <td>SP</td>\n",
       "      <td>354850</td>\n",
       "      <td>SANTOS</td>\n",
       "      <td>432957</td>\n",
       "      <td>32</td>\n",
       "      <td>8</td>\n",
       "      <td>34.00</td>\n",
       "      <td>29.50</td>\n",
       "      <td>30</td>\n",
       "      <td>110400</td>\n",
       "      <td>0.2550</td>\n",
       "      <td>222900</td>\n",
       "      <td>0.5148</td>\n",
       "    </tr>\n",
       "    <tr>\n",
       "      <th>1</th>\n",
       "      <td>2019-09-01</td>\n",
       "      <td>SUDESTE</td>\n",
       "      <td>SP</td>\n",
       "      <td>354850</td>\n",
       "      <td>SANTOS</td>\n",
       "      <td>432957</td>\n",
       "      <td>34</td>\n",
       "      <td>8</td>\n",
       "      <td>32.16</td>\n",
       "      <td>24.50</td>\n",
       "      <td>25</td>\n",
       "      <td>117300</td>\n",
       "      <td>0.2709</td>\n",
       "      <td>214800</td>\n",
       "      <td>0.4961</td>\n",
       "    </tr>\n",
       "    <tr>\n",
       "      <th>2</th>\n",
       "      <td>2019-10-01</td>\n",
       "      <td>SUDESTE</td>\n",
       "      <td>SP</td>\n",
       "      <td>354850</td>\n",
       "      <td>SANTOS</td>\n",
       "      <td>432957</td>\n",
       "      <td>34</td>\n",
       "      <td>8</td>\n",
       "      <td>32.50</td>\n",
       "      <td>24.50</td>\n",
       "      <td>25</td>\n",
       "      <td>117300</td>\n",
       "      <td>0.2709</td>\n",
       "      <td>214800</td>\n",
       "      <td>0.4961</td>\n",
       "    </tr>\n",
       "    <tr>\n",
       "      <th>3</th>\n",
       "      <td>2019-11-01</td>\n",
       "      <td>SUDESTE</td>\n",
       "      <td>SP</td>\n",
       "      <td>354850</td>\n",
       "      <td>SANTOS</td>\n",
       "      <td>432957</td>\n",
       "      <td>33</td>\n",
       "      <td>7</td>\n",
       "      <td>32.50</td>\n",
       "      <td>23.50</td>\n",
       "      <td>24</td>\n",
       "      <td>113850</td>\n",
       "      <td>0.2630</td>\n",
       "      <td>205350</td>\n",
       "      <td>0.4743</td>\n",
       "    </tr>\n",
       "    <tr>\n",
       "      <th>4</th>\n",
       "      <td>2019-12-01</td>\n",
       "      <td>SUDESTE</td>\n",
       "      <td>SP</td>\n",
       "      <td>354850</td>\n",
       "      <td>SANTOS</td>\n",
       "      <td>432957</td>\n",
       "      <td>35</td>\n",
       "      <td>7</td>\n",
       "      <td>33.06</td>\n",
       "      <td>19.75</td>\n",
       "      <td>20</td>\n",
       "      <td>120750</td>\n",
       "      <td>0.2789</td>\n",
       "      <td>201000</td>\n",
       "      <td>0.4642</td>\n",
       "    </tr>\n",
       "    <tr>\n",
       "      <th>5</th>\n",
       "      <td>2020-01-01</td>\n",
       "      <td>SUDESTE</td>\n",
       "      <td>SP</td>\n",
       "      <td>354850</td>\n",
       "      <td>SANTOS</td>\n",
       "      <td>433311</td>\n",
       "      <td>37</td>\n",
       "      <td>7</td>\n",
       "      <td>33.73</td>\n",
       "      <td>19.92</td>\n",
       "      <td>20</td>\n",
       "      <td>127650</td>\n",
       "      <td>0.2946</td>\n",
       "      <td>208410</td>\n",
       "      <td>0.4810</td>\n",
       "    </tr>\n",
       "    <tr>\n",
       "      <th>6</th>\n",
       "      <td>2020-02-01</td>\n",
       "      <td>SUDESTE</td>\n",
       "      <td>SP</td>\n",
       "      <td>354850</td>\n",
       "      <td>SANTOS</td>\n",
       "      <td>433311</td>\n",
       "      <td>37</td>\n",
       "      <td>7</td>\n",
       "      <td>33.90</td>\n",
       "      <td>18.75</td>\n",
       "      <td>19</td>\n",
       "      <td>127650</td>\n",
       "      <td>0.2946</td>\n",
       "      <td>204900</td>\n",
       "      <td>0.4729</td>\n",
       "    </tr>\n",
       "    <tr>\n",
       "      <th>7</th>\n",
       "      <td>2020-03-01</td>\n",
       "      <td>SUDESTE</td>\n",
       "      <td>SP</td>\n",
       "      <td>354850</td>\n",
       "      <td>SANTOS</td>\n",
       "      <td>433311</td>\n",
       "      <td>35</td>\n",
       "      <td>7</td>\n",
       "      <td>33.53</td>\n",
       "      <td>18.75</td>\n",
       "      <td>19</td>\n",
       "      <td>120750</td>\n",
       "      <td>0.2787</td>\n",
       "      <td>198000</td>\n",
       "      <td>0.4569</td>\n",
       "    </tr>\n",
       "    <tr>\n",
       "      <th>8</th>\n",
       "      <td>2020-04-01</td>\n",
       "      <td>SUDESTE</td>\n",
       "      <td>SP</td>\n",
       "      <td>354850</td>\n",
       "      <td>SANTOS</td>\n",
       "      <td>433311</td>\n",
       "      <td>36</td>\n",
       "      <td>7</td>\n",
       "      <td>34.01</td>\n",
       "      <td>20.00</td>\n",
       "      <td>20</td>\n",
       "      <td>124200</td>\n",
       "      <td>0.2866</td>\n",
       "      <td>205200</td>\n",
       "      <td>0.4736</td>\n",
       "    </tr>\n",
       "    <tr>\n",
       "      <th>9</th>\n",
       "      <td>2020-05-01</td>\n",
       "      <td>SUDESTE</td>\n",
       "      <td>SP</td>\n",
       "      <td>354850</td>\n",
       "      <td>SANTOS</td>\n",
       "      <td>433311</td>\n",
       "      <td>35</td>\n",
       "      <td>7</td>\n",
       "      <td>35.31</td>\n",
       "      <td>22.25</td>\n",
       "      <td>22</td>\n",
       "      <td>120750</td>\n",
       "      <td>0.2787</td>\n",
       "      <td>208500</td>\n",
       "      <td>0.4812</td>\n",
       "    </tr>\n",
       "    <tr>\n",
       "      <th>10</th>\n",
       "      <td>2020-06-01</td>\n",
       "      <td>SUDESTE</td>\n",
       "      <td>SP</td>\n",
       "      <td>354850</td>\n",
       "      <td>SANTOS</td>\n",
       "      <td>433311</td>\n",
       "      <td>37</td>\n",
       "      <td>7</td>\n",
       "      <td>33.33</td>\n",
       "      <td>22.25</td>\n",
       "      <td>22</td>\n",
       "      <td>127650</td>\n",
       "      <td>0.2946</td>\n",
       "      <td>215400</td>\n",
       "      <td>0.4971</td>\n",
       "    </tr>\n",
       "    <tr>\n",
       "      <th>11</th>\n",
       "      <td>2020-07-01</td>\n",
       "      <td>SUDESTE</td>\n",
       "      <td>SP</td>\n",
       "      <td>354850</td>\n",
       "      <td>SANTOS</td>\n",
       "      <td>433311</td>\n",
       "      <td>37</td>\n",
       "      <td>7</td>\n",
       "      <td>33.26</td>\n",
       "      <td>22.25</td>\n",
       "      <td>22</td>\n",
       "      <td>127650</td>\n",
       "      <td>0.2946</td>\n",
       "      <td>215400</td>\n",
       "      <td>0.4971</td>\n",
       "    </tr>\n",
       "  </tbody>\n",
       "</table>\n",
       "</div>"
      ],
      "text/plain": [
       "   Competência Macrorregião  UF    IBGE Município  População  Nº ESF Cob.  \\\n",
       "0   2019-08-01      SUDESTE  SP  354850    SANTOS     432957           32   \n",
       "1   2019-09-01      SUDESTE  SP  354850    SANTOS     432957           34   \n",
       "2   2019-10-01      SUDESTE  SP  354850    SANTOS     432957           34   \n",
       "3   2019-11-01      SUDESTE  SP  354850    SANTOS     432957           33   \n",
       "4   2019-12-01      SUDESTE  SP  354850    SANTOS     432957           35   \n",
       "5   2020-01-01      SUDESTE  SP  354850    SANTOS     433311           37   \n",
       "6   2020-02-01      SUDESTE  SP  354850    SANTOS     433311           37   \n",
       "7   2020-03-01      SUDESTE  SP  354850    SANTOS     433311           35   \n",
       "8   2020-04-01      SUDESTE  SP  354850    SANTOS     433311           36   \n",
       "9   2020-05-01      SUDESTE  SP  354850    SANTOS     433311           35   \n",
       "10  2020-06-01      SUDESTE  SP  354850    SANTOS     433311           37   \n",
       "11  2020-07-01      SUDESTE  SP  354850    SANTOS     433311           37   \n",
       "\n",
       "    Nº EAB Param. Cob.  CH Médico  CH Enfermeiro  Nº eSF equivalente  \\\n",
       "0                    8      34.00          29.50                  30   \n",
       "1                    8      32.16          24.50                  25   \n",
       "2                    8      32.50          24.50                  25   \n",
       "3                    7      32.50          23.50                  24   \n",
       "4                    7      33.06          19.75                  20   \n",
       "5                    7      33.73          19.92                  20   \n",
       "6                    7      33.90          18.75                  19   \n",
       "7                    7      33.53          18.75                  19   \n",
       "8                    7      34.01          20.00                  20   \n",
       "9                    7      35.31          22.25                  22   \n",
       "10                   7      33.33          22.25                  22   \n",
       "11                   7      33.26          22.25                  22   \n",
       "\n",
       "    Estim. Pop. Cob. ESF  Cobertura ESF  Estim. Pop. Cob. AB  Cobertura AB  \n",
       "0                 110400         0.2550               222900        0.5148  \n",
       "1                 117300         0.2709               214800        0.4961  \n",
       "2                 117300         0.2709               214800        0.4961  \n",
       "3                 113850         0.2630               205350        0.4743  \n",
       "4                 120750         0.2789               201000        0.4642  \n",
       "5                 127650         0.2946               208410        0.4810  \n",
       "6                 127650         0.2946               204900        0.4729  \n",
       "7                 120750         0.2787               198000        0.4569  \n",
       "8                 124200         0.2866               205200        0.4736  \n",
       "9                 120750         0.2787               208500        0.4812  \n",
       "10                127650         0.2946               215400        0.4971  \n",
       "11                127650         0.2946               215400        0.4971  "
      ]
     },
     "execution_count": 43,
     "metadata": {},
     "output_type": "execute_result"
    }
   ],
   "source": [
    "# Leitura do DataFrame da Cobertura de Santos\n",
    "df_cobertura = pd.read_excel('../input/coberturaabsantosago2019jul2020/Cobertura-AB-SUDESTE - SP - SANTOS-Agosto de 2019  Julho de 2020..xlsx')\n",
    "df_cobertura"
   ]
  },
  {
   "cell_type": "markdown",
   "metadata": {
    "papermill": {
     "duration": 0.059069,
     "end_time": "2020-12-04T18:14:50.578498",
     "exception": false,
     "start_time": "2020-12-04T18:14:50.519429",
     "status": "completed"
    },
    "tags": []
   },
   "source": [
    "### Gráficos"
   ]
  },
  {
   "cell_type": "code",
   "execution_count": 44,
   "metadata": {
    "execution": {
     "iopub.execute_input": "2020-12-04T18:14:50.706608Z",
     "iopub.status.busy": "2020-12-04T18:14:50.705746Z",
     "iopub.status.idle": "2020-12-04T18:14:50.709121Z",
     "shell.execute_reply": "2020-12-04T18:14:50.709627Z"
    },
    "papermill": {
     "duration": 0.071054,
     "end_time": "2020-12-04T18:14:50.709794",
     "exception": false,
     "start_time": "2020-12-04T18:14:50.638740",
     "status": "completed"
    },
    "tags": []
   },
   "outputs": [],
   "source": [
    "# Estilo do gráfico\n",
    "plt.style.use('seaborn-ticks')\n",
    "# Tamanho do gráfico\n",
    "plt.rcParams['figure.figsize'] = (8,5)"
   ]
  },
  {
   "cell_type": "code",
   "execution_count": 45,
   "metadata": {
    "execution": {
     "iopub.execute_input": "2020-12-04T18:14:50.854708Z",
     "iopub.status.busy": "2020-12-04T18:14:50.848893Z",
     "iopub.status.idle": "2020-12-04T18:14:51.028861Z",
     "shell.execute_reply": "2020-12-04T18:14:51.029385Z"
    },
    "papermill": {
     "duration": 0.255133,
     "end_time": "2020-12-04T18:14:51.029523",
     "exception": false,
     "start_time": "2020-12-04T18:14:50.774390",
     "status": "completed"
    },
    "tags": []
   },
   "outputs": [
    {
     "data": {
      "text/plain": [
       "<matplotlib.axes._subplots.AxesSubplot at 0x7f2875de4d10>"
      ]
     },
     "execution_count": 45,
     "metadata": {},
     "output_type": "execute_result"
    },
    {
     "data": {
      "image/png": "[encoded data removed]",
      "text/plain": [
       "<Figure size 576x360 with 1 Axes>"
      ]
     },
     "metadata": {},
     "output_type": "display_data"
    }
   ],
   "source": [
    "# Variação da população coberta percentualmente\n",
    "df_cobertura.plot(kind = 'line',\n",
    "                  x = 'Competência',\n",
    "                  y = 'Cobertura AB',\n",
    "                  legend = False,\n",
    "                  title = 'Variação percentual da Cobertura da Atenção Básica de AGO/2019 a JUL/2020, em Santos')"
   ]
  },
  {
   "cell_type": "code",
   "execution_count": 46,
   "metadata": {
    "execution": {
     "iopub.execute_input": "2020-12-04T18:14:51.167427Z",
     "iopub.status.busy": "2020-12-04T18:14:51.158824Z",
     "iopub.status.idle": "2020-12-04T18:14:51.327970Z",
     "shell.execute_reply": "2020-12-04T18:14:51.327476Z"
    },
    "papermill": {
     "duration": 0.236875,
     "end_time": "2020-12-04T18:14:51.328051",
     "exception": false,
     "start_time": "2020-12-04T18:14:51.091176",
     "status": "completed"
    },
    "tags": []
   },
   "outputs": [
    {
     "data": {
      "text/plain": [
       "<matplotlib.axes._subplots.AxesSubplot at 0x7f2872d30690>"
      ]
     },
     "execution_count": 46,
     "metadata": {},
     "output_type": "execute_result"
    },
    {
     "data": {
      "image/png": "[encoded data removed]",
      "text/plain": [
       "<Figure size 576x360 with 1 Axes>"
      ]
     },
     "metadata": {},
     "output_type": "display_data"
    }
   ],
   "source": [
    "# Variação da população coberta nominalmente\n",
    "df_cobertura.plot(kind = 'line',\n",
    "                  x = 'Competência',\n",
    "                  y = 'Estim. Pop. Cob. AB',\n",
    "                  legend = False,\n",
    "                  title = 'Variação nominal da Cobertura da Atenção Básica de AGO/2019 a JUL/2020, em Santos')"
   ]
  },
  {
   "cell_type": "markdown",
   "metadata": {
    "papermill": {
     "duration": 0.064817,
     "end_time": "2020-12-04T18:14:51.451093",
     "exception": false,
     "start_time": "2020-12-04T18:14:51.386276",
     "status": "completed"
    },
    "tags": []
   },
   "source": [
    "### Comentários dos gráficos de variação da Cobertura da Atenção Básica, acima\n",
    "Nos gráficos acima, da variação do índice de Cobertura da Atenção Básica em Santos, percebemos o mesmo desenho (obviamente, pois o primeiro é uma taxa gerada a partir da variação nominal) e uma queda de mais de 20 mil pessoas no número absoluto, de Agosto a Março, agora normalizado em 215 mil (queda de 5 mil, se comparado diretamente a um ano atrás). A variação percentual parece trazer escala enganosa, por ter amplitude de variação de somente 5% e isso representar todo o comprimento do gráfico, mas se trata de 20 mil habitantes praianos."
   ]
  },
  {
   "cell_type": "code",
   "execution_count": 47,
   "metadata": {
    "execution": {
     "iopub.execute_input": "2020-12-04T18:14:51.596359Z",
     "iopub.status.busy": "2020-12-04T18:14:51.590020Z",
     "iopub.status.idle": "2020-12-04T18:14:51.789453Z",
     "shell.execute_reply": "2020-12-04T18:14:51.789971Z"
    },
    "papermill": {
     "duration": 0.275769,
     "end_time": "2020-12-04T18:14:51.790123",
     "exception": false,
     "start_time": "2020-12-04T18:14:51.514354",
     "status": "completed"
    },
    "tags": []
   },
   "outputs": [
    {
     "data": {
      "image/png": "[encoded data removed]",
      "text/plain": [
       "<Figure size 576x360 with 1 Axes>"
      ]
     },
     "metadata": {},
     "output_type": "display_data"
    }
   ],
   "source": [
    "# Cobertura AB vs. CH Médico\n",
    "x = df_cobertura['Cobertura AB']\n",
    "y = df_cobertura['CH Médico']\n",
    "plt.scatter(x, y)\n",
    "\n",
    "z = np.polyfit(x, y, 1)\n",
    "p = np.poly1d(z)\n",
    "plt.plot(x, p(x), \"r--\")\n",
    "\n",
    "plt.show()"
   ]
  },
  {
   "cell_type": "markdown",
   "metadata": {
    "papermill": {
     "duration": 0.06433,
     "end_time": "2020-12-04T18:14:51.918893",
     "exception": false,
     "start_time": "2020-12-04T18:14:51.854563",
     "status": "completed"
    },
    "tags": []
   },
   "source": [
    "### Comentários sobre Cobertura AB vs. CH Médico\n",
    "Parece não haver correlação entre carga horária de médicos e Cobertura da Atenção Básica em Santos, no período indicado"
   ]
  },
  {
   "cell_type": "code",
   "execution_count": 48,
   "metadata": {
    "execution": {
     "iopub.execute_input": "2020-12-04T18:14:52.056711Z",
     "iopub.status.busy": "2020-12-04T18:14:52.052454Z",
     "iopub.status.idle": "2020-12-04T18:14:52.198520Z",
     "shell.execute_reply": "2020-12-04T18:14:52.198032Z"
    },
    "papermill": {
     "duration": 0.216279,
     "end_time": "2020-12-04T18:14:52.198624",
     "exception": false,
     "start_time": "2020-12-04T18:14:51.982345",
     "status": "completed"
    },
    "tags": []
   },
   "outputs": [
    {
     "data": {
      "image/png": "[encoded data removed]",
      "text/plain": [
       "<Figure size 576x360 with 1 Axes>"
      ]
     },
     "metadata": {},
     "output_type": "display_data"
    }
   ],
   "source": [
    "# Cobertura AB vs. CH Enfermeiro\n",
    "x = df_cobertura['Cobertura AB']\n",
    "y = df_cobertura['CH Enfermeiro']\n",
    "plt.scatter(x, y)\n",
    "\n",
    "z = np.polyfit(x, y, 1)\n",
    "p = np.poly1d(z)\n",
    "plt.plot(x, p(x), \"r--\")\n",
    "\n",
    "plt.show()"
   ]
  },
  {
   "cell_type": "markdown",
   "metadata": {
    "papermill": {
     "duration": 0.072043,
     "end_time": "2020-12-04T18:14:52.338078",
     "exception": false,
     "start_time": "2020-12-04T18:14:52.266035",
     "status": "completed"
    },
    "tags": []
   },
   "source": [
    "### Comentários sobre Cobertura AB vs. CH Enfermeiro\n",
    "Parece haver correlação positiva entre carga horária de enfermeiros e Cobertura da Atenção Básica em Santos, no período indicado"
   ]
  },
  {
   "cell_type": "markdown",
   "metadata": {
    "papermill": {
     "duration": 0.120747,
     "end_time": "2020-12-04T18:14:52.586534",
     "exception": false,
     "start_time": "2020-12-04T18:14:52.465787",
     "status": "completed"
    },
    "tags": []
   },
   "source": [
    "## Dados epidemiológicos"
   ]
  },
  {
   "cell_type": "code",
   "execution_count": 49,
   "metadata": {
    "execution": {
     "iopub.execute_input": "2020-12-04T18:14:52.788266Z",
     "iopub.status.busy": "2020-12-04T18:14:52.787335Z",
     "iopub.status.idle": "2020-12-04T18:14:52.841720Z",
     "shell.execute_reply": "2020-12-04T18:14:52.841125Z"
    },
    "papermill": {
     "duration": 0.157208,
     "end_time": "2020-12-04T18:14:52.841855",
     "exception": false,
     "start_time": "2020-12-04T18:14:52.684647",
     "status": "completed"
    },
    "tags": []
   },
   "outputs": [
    {
     "data": {
      "text/html": [
       "<div>\n",
       "<style scoped>\n",
       "    .dataframe tbody tr th:only-of-type {\n",
       "        vertical-align: middle;\n",
       "    }\n",
       "\n",
       "    .dataframe tbody tr th {\n",
       "        vertical-align: top;\n",
       "    }\n",
       "\n",
       "    .dataframe thead th {\n",
       "        text-align: right;\n",
       "    }\n",
       "</style>\n",
       "<table border=\"1\" class=\"dataframe\">\n",
       "  <thead>\n",
       "    <tr style=\"text-align: right;\">\n",
       "      <th></th>\n",
       "      <th>Ano atendimento</th>\n",
       "      <th>Internações</th>\n",
       "      <th>AIH_aprovadas</th>\n",
       "      <th>Valor_total</th>\n",
       "      <th>Valor_serviços_hospitalares</th>\n",
       "      <th>Val_serv_hosp_-_compl_federal</th>\n",
       "      <th>Val_serv_hosp_-_compl_gestor</th>\n",
       "      <th>Valor_serviços_profissionais</th>\n",
       "      <th>Val_serv_prof_-_compl_federal</th>\n",
       "      <th>Val_serv_prof_-_compl_gestor</th>\n",
       "      <th>Valor_médio_AIH</th>\n",
       "      <th>Valor_médio_intern</th>\n",
       "      <th>Dias_permanência</th>\n",
       "      <th>Média_permanência</th>\n",
       "      <th>Óbitos</th>\n",
       "      <th>Taxa_mortalidade</th>\n",
       "    </tr>\n",
       "  </thead>\n",
       "  <tbody>\n",
       "    <tr>\n",
       "      <th>5</th>\n",
       "      <td>2020</td>\n",
       "      <td>1177</td>\n",
       "      <td>1182</td>\n",
       "      <td>3040681.38</td>\n",
       "      <td>2539922.49</td>\n",
       "      <td>-</td>\n",
       "      <td>-</td>\n",
       "      <td>500758.89</td>\n",
       "      <td>-</td>\n",
       "      <td>-</td>\n",
       "      <td>2572.49</td>\n",
       "      <td>2583.42</td>\n",
       "      <td>8141</td>\n",
       "      <td>6.9</td>\n",
       "      <td>81</td>\n",
       "      <td>6.88</td>\n",
       "    </tr>\n",
       "  </tbody>\n",
       "</table>\n",
       "</div>"
      ],
      "text/plain": [
       "  Ano atendimento Internações  AIH_aprovadas  Valor_total  \\\n",
       "5            2020        1177           1182   3040681.38   \n",
       "\n",
       "   Valor_serviços_hospitalares Val_serv_hosp_-_compl_federal  \\\n",
       "5                   2539922.49                             -   \n",
       "\n",
       "  Val_serv_hosp_-_compl_gestor  Valor_serviços_profissionais  \\\n",
       "5                            -                     500758.89   \n",
       "\n",
       "  Val_serv_prof_-_compl_federal Val_serv_prof_-_compl_gestor  Valor_médio_AIH  \\\n",
       "5                             -                            -          2572.49   \n",
       "\n",
       "  Valor_médio_intern  Dias_permanência Média_permanência Óbitos  \\\n",
       "5            2583.42              8141               6.9     81   \n",
       "\n",
       "  Taxa_mortalidade  \n",
       "5             6.88  "
      ]
     },
     "execution_count": 49,
     "metadata": {},
     "output_type": "execute_result"
    }
   ],
   "source": [
    "df_morbidade = pd.read_excel('../input/morbidade-hospitalar-do-sus-santos/morbidade.xlsx')\n",
    "df_morbidade.loc[df_morbidade['Ano atendimento'] == 2020]"
   ]
  }
 ],
 "metadata": {
  "kernelspec": {
   "display_name": "Python 3",
   "language": "python",
   "name": "python3"
  },
  "language_info": {
   "codemirror_mode": {
    "name": "ipython",
    "version": 3
   },
   "file_extension": ".py",
   "mimetype": "text/x-python",
   "name": "python",
   "nbconvert_exporter": "python",
   "pygments_lexer": "ipython3",
   "version": "3.7.6"
  },
  "papermill": {
   "duration": 303.687444,
   "end_time": "2020-12-04T18:14:53.029580",
   "environment_variables": {},
   "exception": null,
   "input_path": "__notebook__.ipynb",
   "output_path": "__notebook__.ipynb",
   "parameters": {},
   "start_time": "2020-12-04T18:09:49.342136",
   "version": "2.1.0"
  }
 },
 "nbformat": 4,
 "nbformat_minor": 4
}
